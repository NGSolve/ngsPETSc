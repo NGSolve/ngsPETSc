{
 "cells": [
  {
   "cell_type": "markdown",
   "id": "64c7e4ff",
   "metadata": {},
   "source": [
    "## PETSc KSP and PETSc PC\n",
    "In this tutorial we will have an in-depth look in to the way we can use a PETSc `KSP` object to solve a linear system arising from the discretization of a linear partial differential equation. In particular, we will focus our attention the usual Poisson problem in variational form, i.e. find $u_h\\in P^k(\\mathcal{T}_h)$ such for any $v_h \\in P^k(\\mathcal{T}_h)$ the following equation is verified,\n",
    "$$(\\nabla u_h,\\nabla v_h) = (f,v_h),\\;\\textrm{ for a certain data }f\\in [P^k(\\mathcal{T}_h)]^*.$$"
   ]
  },
  {
   "cell_type": "code",
   "execution_count": 1,
   "id": "e1fe36f9",
   "metadata": {},
   "outputs": [
    {
     "name": "stdout",
     "output_type": "stream",
     "text": [
      "Starting 1 engines with <class 'ipyparallel.cluster.launcher.LocalEngineSetLauncher'>\n"
     ]
    },
    {
     "data": {
      "application/vnd.jupyter.widget-view+json": {
       "model_id": "71dc5b383c274df386c090f3cfea3097",
       "version_major": 2,
       "version_minor": 0
      },
      "text/plain": [
       "  0%|          | 0/1 [00:00<?, ?engine/s]"
      ]
     },
     "metadata": {},
     "output_type": "display_data"
    }
   ],
   "source": [
    "from ipyparallel import Cluster\n",
    "c = await Cluster().start_and_connect(n=1, activate=True)"
   ]
  },
  {
   "cell_type": "markdown",
   "id": "4ba8f95c",
   "metadata": {},
   "source": [
    "Let's test if the cluster has been initialized correctly by checking the size of the `COMM_WORLD`-"
   ]
  },
  {
   "cell_type": "code",
   "execution_count": 2,
   "id": "fb5986a3",
   "metadata": {},
   "outputs": [
    {
     "data": {
      "text/plain": [
       "\u001b[0;31mOut[0:1]: \u001b[0m1"
      ]
     },
     "metadata": {
      "after": null,
      "completed": null,
      "data": {},
      "engine_id": 0,
      "engine_uuid": "36f1f360-35ca5b176d122425876540c8",
      "error": null,
      "execute_input": "from mpi4py.MPI import COMM_WORLD\nCOMM_WORLD.Get_size()\n",
      "execute_result": {
       "data": {
        "text/plain": "1"
       },
       "execution_count": 1,
       "metadata": {}
      },
      "follow": null,
      "msg_id": null,
      "outputs": [],
      "received": null,
      "started": null,
      "status": null,
      "stderr": "",
      "stdout": "",
      "submitted": "2023-09-23T16:35:43.576214Z"
     },
     "output_type": "display_data"
    }
   ],
   "source": [
    "%%px\n",
    "from mpi4py.MPI import COMM_WORLD\n",
    "COMM_WORLD.Get_size()"
   ]
  },
  {
   "cell_type": "markdown",
   "id": "77b29016",
   "metadata": {},
   "source": [
    "\n",
    "First we need to construct the distributed mesh that will be interested in dealing with, then define the `BilinearForm` corresponding to the Poisson problem and the load vector `f` we are interested in solving for, which is a NGSolve `LinearForm` object."
   ]
  },
  {
   "cell_type": "code",
   "execution_count": 3,
   "id": "1fd6d26b",
   "metadata": {},
   "outputs": [],
   "source": [
    "%%px\n",
    "from ngsolve import Mesh, BilinearForm, LinearForm, H1\n",
    "from ngsolve import x, y, dx, grad\n",
    "from netgen.geom2d import unit_square\n",
    "\n",
    "if COMM_WORLD.rank == 0:\n",
    "    mesh = Mesh(unit_square.GenerateMesh(maxh=0.2).Distribute(COMM_WORLD))\n",
    "else:\n",
    "    mesh = Mesh(ngm.Mesh.Receive(COMM_WORLD))\n",
    "fes = H1(mesh, order=3, dirichlet=\"left|right|top|bottom\")\n",
    "u,v = fes.TnT()\n",
    "a = BilinearForm(grad(u)*grad(v)*dx).Assemble()\n",
    "f = LinearForm(fes)\n",
    "f += 32 * (y*(1-y)+x*(1-x)) * v * dx"
   ]
  },
  {
   "cell_type": "markdown",
   "id": "61dcb959",
   "metadata": {},
   "source": [
    "We now initialize a new `KrylovSolver` which wraps a PETSc `KSP` object and can be used to solve the linear system $A\\vec{u}_h = \\vec{f}_h$, obtained from the above discretization. In particular, it is possible to control the setup of the PETSc `KSP` solver using the `solverParameters` dictionary which is equivalent to passing PETSc command line options. More detail on available options and solvers can be found in the [PETSc KSP Manual](https://petsc.org/release/manual/ksp/#ch-ksp). Once the solver has been initialized it is possible to obtain a solution of the linear system in terms of `GridFunction` using the `solve` method."
   ]
  },
  {
   "cell_type": "code",
   "execution_count": 4,
   "id": "433f0f6a",
   "metadata": {
    "scrolled": false
   },
   "outputs": [
    {
     "data": {
      "text/plain": [
       "[output:0]"
      ]
     },
     "metadata": {},
     "output_type": "display_data"
    },
    {
     "data": {
      "application/vnd.jupyter.widget-view+json": {
       "model_id": "e79a701f430f4b279270d19a1eca0aca",
       "version_major": 2,
       "version_minor": 0
      },
      "text/plain": [
       "WebGuiWidget(layout=Layout(height='500px', width='100%'), value={'gui_settings': {}, 'ngsolve_version': '6.2.2…"
      ]
     },
     "metadata": {
      "engine": 0
     },
     "output_type": "display_data"
    },
    {
     "data": {
      "text/plain": [
       "[stdout:0] KSP Object: 1 MPI process\n",
       "  type: cg\n",
       "  maximum iterations=10000, initial guess is zero\n",
       "  tolerances:  relative=1e-05, absolute=1e-50, divergence=10000.\n",
       "  left preconditioning\n",
       "  using PRECONDITIONED norm type for convergence test\n",
       "PC Object: 1 MPI process\n",
       "  type: lu\n",
       "    out-of-place factorization\n",
       "    tolerance for zero pivot 2.22045e-14\n",
       "    matrix ordering: external\n",
       "    factor fill ratio given 0., needed 0.      Factored matrix follows:\n",
       "        Mat Object: 1 MPI process\n",
       "          type: mumps\n",
       "          rows=205, cols=205\n",
       "          package used to perform factorization: mumps\n",
       "          total: nonzeros=7603, allocated nonzeros=7603\n",
       "            MUMPS run parameters:\n",
       "              Use -ksp_view ::ascii_info_detail to display information for all processes\n",
       "              RINFOG(1) (global estimated flops for the elimination after analysis): 153913.\n",
       "              RINFOG(2) (global estimated flops for the assembly after factorization): 1916.\n",
       "              RINFOG(3) (global estimated flops for the elimination after factorization): 153913.\n",
       "              (RINFOG(12) RINFOG(13))*2^INFOG(34) (determinant): (0.,0.)*(2^0)              INFOG(3) (estimated real workspace for factors on all processors after analysis): 7603\n",
       "              INFOG(4) (estimated integer workspace for factors on all processors after analysis): 998\n",
       "              INFOG(5) (estimated maximum front size in the complete tree): 35\n",
       "              INFOG(6) (number of nodes in the complete tree): 14\n",
       "              INFOG(7) (ordering option effectively used after analysis): 2\n",
       "              INFOG(8) (structural symmetry in percent of the permuted matrix after analysis): 100\n",
       "              INFOG(9) (total real/complex workspace to store the matrix factors after factorization): 7603\n",
       "              INFOG(10) (total integer space store the matrix factors after factorization): 998\n",
       "              INFOG(11) (order of largest frontal matrix after factorization): 35\n",
       "              INFOG(12) (number of off-diagonal pivots): 0\n",
       "              INFOG(13) (number of delayed pivots after factorization): 0\n",
       "              INFOG(14) (number of memory compress after factorization): 0\n",
       "              INFOG(15) (number of steps of iterative refinement after solution): 0\n",
       "              INFOG(16) (estimated size (in MB) of all MUMPS internal data for factorization after analysis: value on the most memory consuming processor): 0\n",
       "              INFOG(17) (estimated size of all MUMPS internal data for factorization after analysis: sum over all processors): 0\n",
       "              INFOG(18) (size of all MUMPS internal data allocated during factorization: value on the most memory consuming processor): 0\n",
       "              INFOG(19) (size of all MUMPS internal data allocated during factorization: sum over all processors): 0\n",
       "              INFOG(20) (estimated number of entries in the factors): 7603\n",
       "              INFOG(21) (size in MB of memory effectively used during factorization - value on the most memory consuming processor): 0\n",
       "              INFOG(22) (size in MB of memory effectively used during factorization - sum over all processors): 0\n",
       "              INFOG(23) (after analysis: value of ICNTL(6) effectively used): 0\n",
       "              INFOG(24) (after analysis: value of ICNTL(12) effectively used): 1\n",
       "              INFOG(25) (after factorization: number of pivots modified by static pivoting): 0\n",
       "              INFOG(28) (after factorization: number of null pivots encountered): 0\n",
       "              INFOG(29) (after factorization: effective number of entries in the factors (sum over all processors)): 7603\n",
       "              INFOG(30, 31) (after solution: size in Mbytes of memory used during solution phase): 0, 0\n",
       "              INFOG(32) (after analysis: type of analysis done): 1\n",
       "              INFOG(33) (value used for ICNTL(8)): 7\n",
       "              INFOG(34) (exponent of the determinant if determinant is requested): 0\n",
       "              INFOG(35) (after factorization: number of entries taking into account BLR factor compression - sum over all processors): 7603\n",
       "              INFOG(36) (after analysis: estimated size of all MUMPS internal data for running BLR in-core - value on the most memory consuming processor): 0\n",
       "              INFOG(37) (after analysis: estimated size of all MUMPS internal data for running BLR in-core - sum over all processors): 0\n",
       "              INFOG(38) (after analysis: estimated size of all MUMPS internal data for running BLR out-of-core - value on the most memory consuming processor): 0\n",
       "              INFOG(39) (after analysis: estimated size of all MUMPS internal data for running BLR out-of-core - sum over all processors): 0\n",
       "  linear system matrix = precond matrix:\n",
       "  Mat Object: 1 MPI process\n",
       "    type: seqaij\n",
       "    rows=205, cols=205\n",
       "    total: nonzeros=2863, allocated nonzeros=2863\n",
       "    total number of mallocs used during MatSetValues calls=0\n",
       "      using I-node routines: found 137 nodes, limit used is 5\n"
      ]
     },
     "metadata": {},
     "output_type": "display_data"
    }
   ],
   "source": [
    "%%px\n",
    "from ngsPETSc import KrylovSolver\n",
    "from ngsolve.webgui import  Draw\n",
    "solver = KrylovSolver(a,fes, solverParameters={'ksp_type': 'cg', 'pc_type': 'lu',\n",
    "                                'pc_factor_mat_solver_type': 'mumps'})\n",
    "gfu = solver.solve(f)\n",
    "Draw(gfu,mesh, \"solution\")\n",
    "solver.ksp.view()"
   ]
  },
  {
   "cell_type": "markdown",
   "id": "6c3920ca",
   "metadata": {},
   "source": [
    "In the previous example we have solved using a CG method and a LU factorization preconditioned computed using MUMPS. We can access all this information from the using the `view` of the `solver.ksp` object. We can also solve using more exotic methods and preconditioners, such as a biconjugate gradient method using HYPRE for preconditioning."
   ]
  },
  {
   "cell_type": "code",
   "execution_count": 5,
   "id": "7aac2046",
   "metadata": {},
   "outputs": [
    {
     "data": {
      "text/plain": [
       "[output:0]"
      ]
     },
     "metadata": {},
     "output_type": "display_data"
    },
    {
     "data": {
      "application/vnd.jupyter.widget-view+json": {
       "model_id": "e035c08de22642a38d7d6931c5faa20a",
       "version_major": 2,
       "version_minor": 0
      },
      "text/plain": [
       "WebGuiWidget(layout=Layout(height='500px', width='100%'), value={'gui_settings': {}, 'ngsolve_version': '6.2.2…"
      ]
     },
     "metadata": {
      "engine": 0
     },
     "output_type": "display_data"
    },
    {
     "data": {
      "text/plain": [
       "[stdout:0] KSP Object: 1 MPI process\n",
       "  type: bcgs\n",
       "  maximum iterations=10000, initial guess is zero\n",
       "  tolerances:  relative=1e-05, absolute=1e-50, divergence=10000.\n",
       "  left preconditioning\n",
       "  using PRECONDITIONED norm type for convergence test\n",
       "PC Object: 1 MPI process\n",
       "  type: hypre\n",
       "    HYPRE BoomerAMG preconditioning\n",
       "      Cycle type V\n",
       "      Maximum number of levels 25\n",
       "      Maximum number of iterations PER hypre call 1\n",
       "      Convergence tolerance PER hypre call 0.\n",
       "      Threshold for strong coupling 0.25\n",
       "      Interpolation truncation factor 0.\n",
       "      Interpolation: max elements per row 0\n",
       "      Number of levels of aggressive coarsening 0\n",
       "      Number of paths for aggressive coarsening 1\n",
       "      Maximum row sums 0.9\n",
       "      Sweeps down         1\n",
       "      Sweeps up           1\n",
       "      Sweeps on coarse    1\n",
       "      Relax down          symmetric-SOR/Jacobi\n",
       "      Relax up            symmetric-SOR/Jacobi\n",
       "      Relax on coarse     Gaussian-elimination\n",
       "      Relax weight  (all)      1.\n",
       "      Outer relax weight (all) 1.\n",
       "      Maximum size of coarsest grid 9\n",
       "      Minimum size of coarsest grid 1\n",
       "      Using CF-relaxation\n",
       "      Not using more complex smoothers.\n",
       "      Measure type        local\n",
       "      Coarsen type        Falgout\n",
       "      Interpolation type  classical\n",
       "      SpGEMM type         hypre\n",
       "  linear system matrix = precond matrix:\n",
       "  Mat Object: 1 MPI process\n",
       "    type: seqaij\n",
       "    rows=205, cols=205\n",
       "    total: nonzeros=2863, allocated nonzeros=2863\n",
       "    total number of mallocs used during MatSetValues calls=0\n",
       "      using I-node routines: found 137 nodes, limit used is 5\n"
      ]
     },
     "metadata": {},
     "output_type": "display_data"
    }
   ],
   "source": [
    "%%px\n",
    "solver = KrylovSolver(a,fes, solverParameters={'ksp_type': 'bcgs', 'pc_type': 'hypre'})\n",
    "gfu = solver.solve(f)\n",
    "Draw(gfu,mesh, \"solution\")\n",
    "solver.ksp.view()"
   ]
  },
  {
   "cell_type": "markdown",
   "id": "f65d64aa",
   "metadata": {},
   "source": [
    "It is also possible to import any PETSc `PC` object and used it NGSolve using the `PETScPC` NGSolve `Preconditioner`. This is very useful if one is interested in using NGSolve linear algebra functionality with \"foreign\" preconditioner. "
   ]
  },
  {
   "cell_type": "code",
   "execution_count": 6,
   "id": "71305a02",
   "metadata": {},
   "outputs": [
    {
     "data": {
      "text/plain": [
       "[stdout:0] \u001b[2KCG iteration 1, residual = 2.3515313068754367     \n",
       "\u001b[2KCG iteration 2, residual = 0.11703951230766897     \n",
       "\u001b[2KCG iteration 3, residual = 0.02532238998559266     \n",
       "\u001b[2KCG iteration 4, residual = 0.002762280521164809     \n",
       "\u001b[2KCG iteration 5, residual = 0.00036992984473413113     \n",
       "\u001b[2KCG iteration 6, residual = 5.0193813921945675e-05     \n",
       "\u001b[2KCG iteration 7, residual = 8.048185966060108e-06     \n",
       "\u001b[2KCG iteration 8, residual = 1.1206592184815855e-06     \n",
       "\u001b[2KCG iteration 9, residual = 1.3930271656429977e-07     \n",
       "\u001b[2KCG iteration 10, residual = 2.358932103568244e-08     \n",
       "\u001b[2KCG iteration 11, residual = 3.2889334523253205e-09     \n",
       "\u001b[2KCG iteration 12, residual = 4.688724686311323e-10     \n",
       "\u001b[2KCG iteration 13, residual = 6.51694553700458e-11     \n",
       "\u001b[2KCG iteration 14, residual = 9.11213172981437e-12     \n",
       "\u001b[2KCG iteration 15, residual = 7.541816903801115e-13     \n"
      ]
     },
     "metadata": {},
     "output_type": "display_data"
    },
    {
     "data": {
      "text/plain": [
       "[stderr:0] WARNING: kwarg 'pc_type' is an undocumented flags option for class <class 'ngsolve.comp.Preconditioner'>, maybe there is a typo?\n"
      ]
     },
     "metadata": {},
     "output_type": "display_data"
    },
    {
     "data": {
      "text/plain": [
       "[output:0]"
      ]
     },
     "metadata": {},
     "output_type": "display_data"
    },
    {
     "data": {
      "application/vnd.jupyter.widget-view+json": {
       "model_id": "7cff3649d74e45a7a44a3843f4cbde9e",
       "version_major": 2,
       "version_minor": 0
      },
      "text/plain": [
       "WebGuiWidget(layout=Layout(height='500px', width='100%'), value={'gui_settings': {}, 'ngsolve_version': '6.2.2…"
      ]
     },
     "metadata": {
      "engine": 0
     },
     "output_type": "display_data"
    },
    {
     "data": {
      "text/plain": [
       "\u001b[0;31mOut[0:5]: \u001b[0mBaseWebGuiScene"
      ]
     },
     "metadata": {
      "after": [],
      "completed": "2023-09-23T16:35:45.076042Z",
      "data": {},
      "engine_id": 0,
      "engine_uuid": "36f1f360-35ca5b176d122425876540c8",
      "error": null,
      "execute_input": "from ngsPETSc import pc\nfrom ngsolve import Preconditioner, GridFunction\nfrom ngsolve.solvers import CG\npre = Preconditioner(a, \"PETScPC\", pc_type=\"hypre\")\ngfu = GridFunction(fes)\ngfu.vec.data = CG(a.mat, rhs=f.vec, pre=pre, printrates=mesh.comm.rank==0)\nDraw(gfu,mesh, \"solution\")\n",
      "execute_result": {
       "data": {
        "text/plain": "BaseWebGuiScene"
       },
       "execution_count": 5,
       "metadata": {}
      },
      "follow": [],
      "is_broadcast": false,
      "is_coalescing": false,
      "msg_id": "c401a956-1148f4bc53db05bad3406116_39084_5",
      "outputs": [
       {
        "data": {
         "application/vnd.jupyter.widget-view+json": {
          "model_id": "7cff3649d74e45a7a44a3843f4cbde9e",
          "version_major": 2,
          "version_minor": 0
         },
         "text/plain": "WebGuiWidget(layout=Layout(height='500px', width='100%'), value={'gui_settings': {}, 'ngsolve_version': '6.2.2…"
        },
        "metadata": {},
        "transient": {}
       }
      ],
      "received": "2023-09-23T16:35:45.096296Z",
      "started": "2023-09-23T16:35:45.059868Z",
      "status": "ok",
      "stderr": "WARNING: kwarg 'pc_type' is an undocumented flags option for class <class 'ngsolve.comp.Preconditioner'>, maybe there is a typo?\n",
      "stdout": "\u001b[2KCG iteration 1, residual = 2.3515313068754367     \n\u001b[2KCG iteration 2, residual = 0.11703951230766897     \n\u001b[2KCG iteration 3, residual = 0.02532238998559266     \n\u001b[2KCG iteration 4, residual = 0.002762280521164809     \n\u001b[2KCG iteration 5, residual = 0.00036992984473413113     \n\u001b[2KCG iteration 6, residual = 5.0193813921945675e-05     \n\u001b[2KCG iteration 7, residual = 8.048185966060108e-06     \n\u001b[2KCG iteration 8, residual = 1.1206592184815855e-06     \n\u001b[2KCG iteration 9, residual = 1.3930271656429977e-07     \n\u001b[2KCG iteration 10, residual = 2.358932103568244e-08     \n\u001b[2KCG iteration 11, residual = 3.2889334523253205e-09     \n\u001b[2KCG iteration 12, residual = 4.688724686311323e-10     \n\u001b[2KCG iteration 13, residual = 6.51694553700458e-11     \n\u001b[2KCG iteration 14, residual = 9.11213172981437e-12     \n\u001b[2KCG iteration 15, residual = 7.541816903801115e-13     \n",
      "submitted": "2023-09-23T16:35:45.056262Z"
     },
     "output_type": "display_data"
    }
   ],
   "source": [
    "%%px\n",
    "from ngsPETSc import pc\n",
    "from ngsolve import Preconditioner, GridFunction\n",
    "from ngsolve.solvers import CG\n",
    "pre = Preconditioner(a, \"PETScPC\", pc_type=\"hypre\")\n",
    "gfu = GridFunction(fes)\n",
    "gfu.vec.data = CG(a.mat, rhs=f.vec, pre=pre, printrates=mesh.comm.rank==0)\n",
    "Draw(gfu,mesh, \"solution\")"
   ]
  }
 ],
 "metadata": {
  "kernelspec": {
   "display_name": "Python 3 (ipykernel)",
   "language": "python",
   "name": "python3"
  },
  "language_info": {
   "codemirror_mode": {
    "name": "ipython",
    "version": 3
   },
   "file_extension": ".py",
   "mimetype": "text/x-python",
   "name": "python",
   "nbconvert_exporter": "python",
   "pygments_lexer": "ipython3",
   "version": "3.10.6"
  },
  "widgets": {
   "application/vnd.jupyter.widget-state+json": {
    "state": {
     "0ec1d1135ff84fe580a18111b61fec6b": {
      "model_module": "@jupyter-widgets/base",
      "model_module_version": "2.0.0",
      "model_name": "LayoutModel",
      "state": {}
     },
     "0f173c34f0b84ed58dea09a37ef9980d": {
      "model_module": "@jupyter-widgets/controls",
      "model_module_version": "2.0.0",
      "model_name": "FloatProgressModel",
      "state": {
       "bar_style": "success",
       "layout": "IPY_MODEL_cee93520f636404cbd4c87b2776a1a38",
       "max": 1,
       "style": "IPY_MODEL_659016de566d46bda2e1ab41474dc4e3",
       "value": 1
      }
     },
     "15daff28690d4d65b32ce81b50003171": {
      "buffers": [
       {
        "data": "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",
        "encoding": "base64",
        "path": [
         "value",
         "Bezier_points",
         0
        ]
       },
       {
        "data": "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",
        "encoding": "base64",
        "path": [
         "value",
         "Bezier_points",
         1
        ]
       },
       {
        "data": "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",
        "encoding": "base64",
        "path": [
         "value",
         "Bezier_points",
         2
        ]
       },
       {
        "data": "zcxMPgAAAAAAAAAAAAAAAM3MzD4AAAAAAAAAAAAAAACamRk/AAAAAAAAAAAAAAAAzcxMPwAAAAAAAAAAAAAAAAAAgD8AAAAAAAAAAAAAAAAAAIA/zcxMPgAAAAAAAAAAAACAP83MzD4AAAAAAAAAAAAAgD+amRk/AAAAAAAAAAAAAIA/zcxMPwAAAAAAAAAAAACAPwAAgD8AAAAAAAAAAM3MTD8AAIA/AAAAAAAAAACamRk/AACAPwAAAAAAAAAAzczMPgAAgD8AAAAAAAAAAM3MTD4AAIA/AAAAAAAAAAAAAAAAAACAPwAAAAAAAAAAAAAAAM3MTD8AAAAAAAAAAAAAAACamRk/AAAAAAAAAAAAAAAAzczMPgAAAAAAAAAAAAAAAM3MTD4AAAAAAAAAAAAAAAAAAAAAAAAAAAAAAAA=",
        "encoding": "base64",
        "path": [
         "value",
         "edges",
         0
        ]
       },
       {
        "data": "zczMPQAAAAAAAAAAAAAAAJqZmT4AAAAAAAAAAAAAAAAAAAA/AAAAAAAAAAAAAAAAMzMzPwAAAAAAAAAAAAAAAGZmZj8AAAAAAAAAAAAAAAAAAIA/zczMPQAAAAAAAAAAAACAP5qZmT4AAAAAAAAAAAAAgD8AAAA/AAAAAAAAAAAAAIA/MzMzPwAAAAAAAAAAAACAP2ZmZj8AAAAAAAAAAGZmZj8AAIA/AAAAAAAAAAAzMzM/AACAPwAAAAAAAAAAAAAAPwAAgD8AAAAAAAAAAJqZmT4AAIA/AAAAAAAAAADNzMw9AACAPwAAAAAAAAAAAAAAAGZmZj8AAAAAAAAAAAAAAAAzMzM/AAAAAAAAAAAAAAAAAAAAPwAAAAAAAAAAAAAAAJqZmT4AAAAAAAAAAAAAAADNzMw9AAAAAAAAAAA=",
        "encoding": "base64",
        "path": [
         "value",
         "edges",
         1
        ]
       },
       {
        "data": "AAAAAAAAAAAAAAAAAAAAAM3MTD4AAAAAAAAAAAAAAADNzMw+AAAAAAAAAAAAAAAAmpkZPwAAAAAAAAAAAAAAAM3MTD8AAAAAAAAAAAAAAAAAAIA/AAAAAAAAAAAAAAAAAACAP83MTD4AAAAAAAAAAAAAgD/NzMw+AAAAAAAAAAAAAIA/mpkZPwAAAAAAAAAAAACAP83MTD8AAAAAAAAAAAAAgD8AAIA/AAAAAAAAAADNzEw/AACAPwAAAAAAAAAAmpkZPwAAgD8AAAAAAAAAAM3MzD4AAIA/AAAAAAAAAADNzEw+AACAPwAAAAAAAAAAAAAAAAAAgD8AAAAAAAAAAAAAAADNzEw/AAAAAAAAAAAAAAAAmpkZPwAAAAAAAAAAAAAAAM3MzD4AAAAAAAAAAAAAAADNzEw+AAAAAAAAAAA=",
        "encoding": "base64",
        "path": [
         "value",
         "edges",
         2
        ]
       },
       {
        "data": "AAAAAM3MTD4AAAAAAAAAACmOij6zRkc+AAAAAORh/T5I2Pk+eLw9PgAAAABEeRo/KY6KPrNGRz4AAAAA5GH9Pv2pNT8oNjg+AAAAAKEA+T5I2Pk+eLw9PgAAAABEeRo/zcxMPwAAAAAAAAAAAAAAAP2pNT8oNjg+AAAAAKEA+T5+fCs/cyQAPwAAAABjcmI/2klMPzwPtj4AAAAAiUcXPx0/9T5IBxY/AAAAAJDzdz9RLVU/tbALPwAAAACCbw0/2klMPzwPtj4AAAAAiUcXP73NVj9aAj4/AAAAAHac0z5RLVU/tbALPwAAAACCbw0/AACAP83MTD8AAAAAAAAAAJ5cMD/F/Vg/AAAAALLA4j4XSgU/1JZQPwAAAACxPRo/nlwwP8X9WD8AAAAAssDiPp3Uqz4Yxks/AAAAAJpJFD8XSgU/1JZQPwAAAACxPRo/zcxMPgAAgD8AAAAAAAAAAJ3Uqz4Yxks/AAAAAJpJFD8B7hs+CQFLPwAAAACWja0+xyArP7o7LD8AAAAAa9NHPwHuGz4JAUs/AAAAAJaNrT5UPi0+4qbJPgAAAAA8bQk/HT/1PkgHFj8AAAAAkPN3P1Q+LT7ipsk+AAAAADxtCT8AAAAAzcxMPgAAAAAAAAAAvc1WP1oCPj8AAAAAdpzTPr3NVj9aAj4/AAAAAHac0z5UPi0+4qbJPgAAAAA8bQk/jKkUPxbctj4AAAAAD/ZkP+sVwD7QbsU+AAAAALB1Yz/rFcA+0G7FPgAAAACwdWM/xyArP7o7LD8AAAAAa9NHP8cgKz+6Oyw/AAAAAGvTRz/9qTU/KDY4PgAAAAChAPk+jKkUPxbctj4AAAAAD/ZkP8IHgT6/gBc/AAAAAH19Oj8B7hs+CQFLPwAAAACWja0+HT/1PkgHFj8AAAAAkPN3P8cgKz+6Oyw/AAAAAGvTRz/CB4E+v4AXPwAAAAB9fTo/VD4tPuKmyT4AAAAAPG0JP8IHgT6/gBc/AAAAAH19Oj9+fCs/cyQAPwAAAABjcmI/jKkUPxbctj4AAAAAD/ZkP358Kz9zJAA/AAAAAGNyYj/rFcA+0G7FPgAAAACwdWM/wgeBPr+AFz8AAAAAfX06Pw==",
        "encoding": "base64",
        "path": [
         "value",
         "Bezier_trig_points",
         0
        ]
       },
       {
        "data": "AAAAAM3MzD0AAAAAAAAAAI/0cD6zRsc9AAAAAEJEhD6KUuM+eLy9PQAAAAAugLk+e62rPrNGxz0AAAAADvXBPsuhJz8oNrg9AAAAAFSXsj7fQgs/eLy9PQAAAADBHbs+ZmZmPwAAAAAAAAAAAAAAAGU7QT8oNrg9AAAAAFNbdz6iTis/FjAWPwAAAADwo2I/7SRmP9E6jj4AAAAADAWTPqbp/z4OTzM/AAAAAJ2mZD+olmo/GxfyPgAAAAC+eas+7SRmPwRuwT4AAAAAtXDGPt5maz/6zSs/AAAAABKtoT6olmo/J6USPwAAAAAd2aU+AACAP2ZmZj8AAAAAAAAAALWUPj/ifmw/AAAAAD3zUz7ZcQ8/aktoPwAAAAD45Lg+HPskP+J+bD8AAAAA0tWWPrVQvD4M42U/AAAAAKSuyD5+sOs+aktoPwAAAADir7s+zczMPQAAgD8AAAAAAAAAAIIdiT4M42U/AAAAAKvfkT4B7ps9hIBlPwAAAACV8B89bzUYP0dpPj8AAAAAjz9HPwHumz3r5ks/AAAAAM0sSD5UPq09C23+PgAAAABIibM+jaQHP1N18T4AAAAA4QSHP1Q+rT3XOcs+AAAAAIFWpj7NzMw9zczMPQAAAAC/aoQ+3mZrP5NnRT8AAAAAvldYPkXNUT8tAV8/AAAAAC1Epj5UPq09pAaYPgAAAAA9g34+2MoIPyndij4AAAAABitTPwpSpT4ViZQ+AAAAAKzCPz8Z99w+hiaSPgAAAAAH51o/DCdAPzf2Gz8AAAAAO25CP0L3QD8KHzU/AAAAADrSIT/+1Fo/e4FCPgAAAAAPabw+xCklP5V7iT4AAAAAc5U/Py9ulj5rozE/AAAAANWhQT8B7ps9UU0yPwAAAABotJw+3YnQPrDmMD8AAAAAWg5gP7O+LT+/nEI/AAAAALYOKT/CBwE+LI0YPwAAAABmD/g+Uy1hPh6llj4AAAAAIbwfP+ymVz4wVPw+AAAAAKNwMj8s4zs/ESzbPgAAAABjwUo/s3kwP6l1tj4AAAAAb0NUP+dUQD+U6gU/AAAAAL/qRT+CtPQ+cyW+PgAAAAB2/ng/1o6gPic4+j4AAAAAk5dpPw==",
        "encoding": "base64",
        "path": [
         "value",
         "Bezier_trig_points",
         1
        ]
       },
       {
        "data": "AAAAAAAAAAAAAAAAAAAAAM3MTD4AAAAAAAAAAAAAAADNzMw+AAAAAAAAAAAAAAAAzczMPgAAAAAAAAAAAAAAAJqZGT8AAAAAAAAAAAAAAACamRk/AAAAAAAAAAAAAAAAAACAPwAAAAAAAAAAAAAAAM3MTD8AAAAAAAAAAAAAAADHICs/ujssPwAAAABr00c/AACAP83MTD4AAAAAAAAAABdKBT/UllA/AAAAALE9Gj8AAIA/zczMPgAAAAAAAAAAAACAP83MzD4AAAAAAAAAAAAAgD+amRk/AAAAAAAAAAAAAIA/mpkZPwAAAAAAAAAAAACAPwAAgD8AAAAAAAAAAM3MTD8AAIA/AAAAAAAAAACamRk/AACAPwAAAAAAAAAAmpkZPwAAgD8AAAAAAAAAAM3MzD4AAIA/AAAAAAAAAADNzMw+AACAPwAAAAAAAAAAAAAAAAAAgD8AAAAAAAAAAM3MTD4AAIA/AAAAAAAAAAAAAAAAAACAPwAAAAAAAAAAF0oFP9SWUD8AAAAAsT0aPwAAAADNzEw/AAAAAAAAAAAAAAAAmpkZPwAAAAAAAAAAjKkUPxbctj4AAAAAD/ZkPwAAAADNzMw+AAAAAAAAAADNzEw+AAAAAAAAAAAAAAAAAACAP83MTD8AAAAAAAAAAM3MTD8AAIA/AAAAAAAAAAAAAAAAzcxMPgAAAAAAAAAASNj5Pni8PT4AAAAARHkaPymOij6zRkc+AAAAAORh/T5I2Pk+eLw9PgAAAABEeRo/US1VP7WwCz8AAAAAgm8NP73NVj9aAj4/AAAAAHac0z4AAIA/zcxMPgAAAAAAAAAA/ak1Pyg2OD4AAAAAoQD5Pp3Uqz4Yxks/AAAAAJpJFD8AAAAAmpkZPwAAAAAAAAAAndSrPhjGSz8AAAAAmkkUP55cMD/F/Vg/AAAAALLA4j4AAAAAmpkZPwAAAAAAAAAAKY6KPrNGRz4AAAAA5GH9PlQ+LT7ipsk+AAAAADxtCT/aSUw/PA+2PgAAAACJRxc/2klMPzwPtj4AAAAAiUcXP1EtVT+1sAs/AAAAAIJvDT+MqRQ/Fty2PgAAAAAP9mQ/6xXAPtBuxT4AAAAAsHVjPw==",
        "encoding": "base64",
        "path": [
         "value",
         "Bezier_trig_points",
         2
        ]
       },
       {
        "data": "zczMPc3MzD0AAAAAv2qEPnutqz6zRsc9AAAAAA71wT7fQgs/eLy9PQAAAADBHbs+ODPCPpWBQj4AAAAA8DEcP2U7QT8oNrg9AAAAAFNbdz4QSxk/UPk6PgAAAAABQxo/ZmZmP83MzD0AAAAADGmEPv7UWj97gUI+AAAAAA9pvD4GDhM/3RULPwAAAAC114E/7SRmPwRuwT4AAAAAtXDGPt2J0D6w5jA/AAAAAFoOYD+olmo/J6USPwAAAAAd2aU+lrtQP1K45j4AAAAAk/ceP95maz+TZ0U/AAAAAL5XWD6H/VU/h9kkPwAAAADXCQY/ZmZmP2ZmZj8AAAAAZ2mEPhz7JD/ifmw/AAAAANLVlj5+sOs+aktoPwAAAADir7s+W9MaP0zKVD8AAAAA8+gMP4IdiT4M42U/AAAAAKvfkT5mNNs+di5OPwAAAACGHSM/Z100PoSAZT8AAAAANuCFPp3LeT6QY0s/AAAAAM8tAT8B7ps96+ZLPwAAAADNLEg+K+ASP4EhIT8AAAAAWmlzPwHumz1RTTI/AAAAAGi0nD5UPq091znLPgAAAACBVqY+Bg4TP90VCz8AAAAAtdeBP1Q+rT2kBpg+AAAAAD2Dfj4pjgo+wAlKPgAAAAAz9rA+Rc1RPy0BXz8AAAAALUSmPi2VQz8PgEs/AAAAACMtAz9TLWE+HqWWPgAAAAAhvB8/xCklP5V7iT4AAAAAc5U/Pxn33D6GJpI+AAAAAAfnWj+CtPQ+cyW+PgAAAAB2/ng/QvdAPwofNT8AAAAAOtIhP7O+LT+/nEI/AAAAALYOKT/r+UA/KBWJPgAAAABsJiA/s3kwP6l1tj4AAAAAb0NUP8L+Tj7kQDE/AAAAAGS+ED/C/k4+5EAxPwAAAABkvhA/byO7PgPEFj8AAAAA3rxyP281GD9HaT4/AAAAAI8/Rz/splc+MFT8PgAAAACjcDI/i1qLPtmKxz4AAAAANopLP9aOoD4nOPo+AAAAAJOXaT/nVEA/lOoFPwAAAAC/6kU/BRMgP36S2z4AAAAAzGtyP6JOKz8WMBY/AAAAAPCjYj+Eqto+sL74PgAAAACEfYM/byO7PgPEFj8AAAAA3rxyPw==",
        "encoding": "base64",
        "path": [
         "value",
         "Bezier_trig_points",
         3
        ]
       },
       {
        "data": "zczMPQAAAAAAAAAAAAAAAJqZmT4AAAAAAAAAAAAAAAAAAAA/AAAAAAAAAAAAAAAAilLjPni8vT0AAAAALoC5PjMzMz8AAAAAAAAAAAAAAADLoSc/KDa4PQAAAABUl7I+AACAP83MzD0AAAAAAAAAAGZmZj/NzMw9AAAAAAxphD4r4BI/gSEhPwAAAABaaXM/AACAP5qZmT4AAAAAAAAAAGY02z52Lk4/AAAAAIYdIz8AAIA/AAAAPwAAAAAAAAAAqJZqPxsX8j4AAAAAvnmrPgAAgD8zMzM/AAAAAAAAAADeZms/+s0rPwAAAAASraE+ZmZmPwAAgD8AAAAAAAAAADMzMz8AAIA/AAAAAAAAAAAAAAA/AACAPwAAAAAAAAAA2XEPP2pLaD8AAAAA+OS4PpqZmT4AAIA/AAAAAAAAAAC1ULw+DONlPwAAAACkrsg+Ae6bPYSAZT8AAAAAlfAfPWddND6EgGU/AAAAADbghT4AAAAAZmZmPwAAAAAAAAAApun/Pg5PMz8AAAAAnaZkPwAAAAAzMzM/AAAAAAAAAAAAAAAAAAAAPwAAAAAAAAAABRMgP36S2z4AAAAAzGtyPwAAAACamZk+AAAAAAAAAACP9HA+s0bHPQAAAABCRIQ+ZmZmP2ZmZj8AAAAAZ2mEPrWUPj/ifmw/AAAAAD3zUz4pjgo+wAlKPgAAAAAz9rA+EEsZP1D5Oj4AAAAAAUMaPzgzwj6VgUI+AAAAAPAxHD/Yygg/Kd2KPgAAAAAGK1M/h/1VP4fZJD8AAAAA1wkGPy2VQz8PgEs/AAAAACMtAz/tJGY/0TqOPgAAAAAMBZM+6/lAPygViT4AAAAAbCYgP53LeT6QY0s/AAAAAM8tAT/CBwE+LI0YPwAAAABmD/g+L26WPmujMT8AAAAA1aFBP1vTGj9MylQ/AAAAAPPoDD9UPq09C23+PgAAAABIibM+ClKlPhWJlD4AAAAArMI/P4taiz7Zisc+AAAAADaKSz+Wu1A/UrjmPgAAAACT9x4/LOM7PxEs2z4AAAAAY8FKPwwnQD839hs/AAAAADtuQj+NpAc/U3XxPgAAAADhBIc/hKraPrC++D4AAAAAhH2DPw==",
        "encoding": "base64",
        "path": [
         "value",
         "Bezier_trig_points",
         4
        ]
       },
       {
        "data": "zcxMPgAAAAAAAAAAAAAAAM3MzD4AAAAAAAAAAAAAAACamRk/AAAAAAAAAAAAAAAASNj5Pni8PT4AAAAARHkaP83MTD8AAAAAAAAAAAAAAAD9qTU/KDY4PgAAAAChAPk+AACAP83MTD4AAAAAAAAAAAAAgD/NzEw+AAAAAAAAAAAdP/U+SAcWPwAAAACQ83c/AACAP83MzD4AAAAAAAAAAJ3Uqz4Yxks/AAAAAJpJFD8AAIA/mpkZPwAAAAAAAAAAUS1VP7WwCz8AAAAAgm8NPwAAgD/NzEw/AAAAAAAAAAC9zVY/WgI+PwAAAAB2nNM+zcxMPwAAgD8AAAAAAAAAAJqZGT8AAIA/AAAAAAAAAADNzMw+AACAPwAAAAAAAAAAF0oFP9SWUD8AAAAAsT0aP83MTD4AAIA/AAAAAAAAAACd1Ks+GMZLPwAAAACaSRQ/Ae4bPgkBSz8AAAAAlo2tPgHuGz4JAUs/AAAAAJaNrT4AAAAAzcxMPwAAAAAAAAAAHT/1PkgHFj8AAAAAkPN3PwAAAACamRk/AAAAAAAAAAAAAAAAzczMPgAAAAAAAAAAfnwrP3MkAD8AAAAAY3JiPwAAAADNzEw+AAAAAAAAAAApjoo+s0ZHPgAAAADkYf0+zcxMPwAAgD8AAAAAAAAAAJ5cMD/F/Vg/AAAAALLA4j4pjoo+s0ZHPgAAAADkYf0+/ak1Pyg2OD4AAAAAoQD5PkjY+T54vD0+AAAAAER5Gj+MqRQ/Fty2PgAAAAAP9mQ/vc1WP1oCPj8AAAAAdpzTPp5cMD/F/Vg/AAAAALLA4j7aSUw/PA+2PgAAAACJRxc/2klMPzwPtj4AAAAAiUcXPwHuGz4JAUs/AAAAAJaNrT7CB4E+v4AXPwAAAAB9fTo/wgeBPr+AFz8AAAAAfX06PxdKBT/UllA/AAAAALE9Gj9UPi0+4qbJPgAAAAA8bQk/6xXAPtBuxT4AAAAAsHVjP+sVwD7QbsU+AAAAALB1Yz9RLVU/tbALPwAAAACCbw0/fnwrP3MkAD8AAAAAY3JiP8cgKz+6Oyw/AAAAAGvTRz8dP/U+SAcWPwAAAACQ83c/HT/1PkgHFj8AAAAAkPN3Pw==",
        "encoding": "base64",
        "path": [
         "value",
         "Bezier_trig_points",
         5
        ]
       }
      ],
      "model_module": "webgui_jupyter_widgets",
      "model_module_version": "0.2.24",
      "model_name": "WebguiModel",
      "state": {
       "layout": "IPY_MODEL_95a811a3d7e14b1ab569bb52e6b455f6",
       "value": {
        "Bezier_points": [
         {},
         {},
         {}
        ],
        "Bezier_trig_points": [
         {},
         {},
         {},
         {},
         {},
         {}
        ],
        "autoscale": true,
        "deformation": false,
        "draw_surf": true,
        "draw_vol": false,
        "edges": [
         {},
         {},
         {}
        ],
        "funcdim": 1,
        "funcmax": 0.9931531496228501,
        "funcmin": 0,
        "gui_settings": {},
        "mesh_center": [
         0.5,
         0.5,
         1.1125369292536007e-308
        ],
        "mesh_dim": 2,
        "mesh_radius": 0.7071067811865476,
        "ngsolve_version": "6.2.2302-64-g62a6de69a",
        "objects": [],
        "order2d": 2,
        "order3d": 2,
        "show_mesh": true,
        "show_wireframe": true
       }
      }
     },
     "2fc0c63590784640abee3223dc009233": {
      "model_module": "@jupyter-widgets/base",
      "model_module_version": "2.0.0",
      "model_name": "LayoutModel",
      "state": {}
     },
     "3052cb7a013147e98943b44ecd93cc0f": {
      "model_module": "@jupyter-widgets/controls",
      "model_module_version": "2.0.0",
      "model_name": "HTMLModel",
      "state": {
       "layout": "IPY_MODEL_0ec1d1135ff84fe580a18111b61fec6b",
       "style": "IPY_MODEL_becb646f6f9e49179b72de70468a286e",
       "value": "100%"
      }
     },
     "34b031bd6964465c98f23263513cc375": {
      "model_module": "@jupyter-widgets/controls",
      "model_module_version": "2.0.0",
      "model_name": "HBoxModel",
      "state": {
       "children": [
        "IPY_MODEL_3052cb7a013147e98943b44ecd93cc0f",
        "IPY_MODEL_0f173c34f0b84ed58dea09a37ef9980d",
        "IPY_MODEL_4b7cbaa65fb34606b948a30a0067aa53"
       ],
       "layout": "IPY_MODEL_b97bc1cdd6724907b22bc8c541ab3216"
      }
     },
     "38aed836929c4d7f9e75a233843af906": {
      "model_module": "@jupyter-widgets/base",
      "model_module_version": "2.0.0",
      "model_name": "LayoutModel",
      "state": {
       "height": "50vh",
       "width": "100%"
      }
     },
     "3ca5034659b94ff8b1375d1ac72af110": {
      "model_module": "@jupyter-widgets/controls",
      "model_module_version": "2.0.0",
      "model_name": "ProgressStyleModel",
      "state": {
       "description_width": ""
      }
     },
     "403c37db694a41bdbf401b5f7fda40fb": {
      "model_module": "@jupyter-widgets/controls",
      "model_module_version": "2.0.0",
      "model_name": "HBoxModel",
      "state": {
       "children": [
        "IPY_MODEL_6eee71c88aef4b0eba393514b0099b21",
        "IPY_MODEL_5c8bec9c65fc4cbcafea89205c9a23dc",
        "IPY_MODEL_cba3f01ae1a241088cda9559badc92d3"
       ],
       "layout": "IPY_MODEL_ee768e8860b84d6f92e6f03f49dbf4cc"
      }
     },
     "4b7cbaa65fb34606b948a30a0067aa53": {
      "model_module": "@jupyter-widgets/controls",
      "model_module_version": "2.0.0",
      "model_name": "HTMLModel",
      "state": {
       "layout": "IPY_MODEL_6dd483d9cc3b4806ad743d4ff410e389",
       "style": "IPY_MODEL_b2308135a7a54b01978ebc713ed8d873",
       "value": " 1/1 [00:05&lt;00:00,  5.68s/engine]"
      }
     },
     "5c8bec9c65fc4cbcafea89205c9a23dc": {
      "model_module": "@jupyter-widgets/controls",
      "model_module_version": "2.0.0",
      "model_name": "FloatProgressModel",
      "state": {
       "bar_style": "success",
       "layout": "IPY_MODEL_b788047c1b764bc8b2e86f70eeecc18f",
       "max": 1,
       "style": "IPY_MODEL_3ca5034659b94ff8b1375d1ac72af110",
       "value": 1
      }
     },
     "5d00f3ba0cfa4e1f9493d27347280b55": {
      "buffers": [
       {
        "data": "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",
        "encoding": "base64",
        "path": [
         "value",
         "Bezier_points",
         0
        ]
       },
       {
        "data": "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",
        "encoding": "base64",
        "path": [
         "value",
         "Bezier_points",
         1
        ]
       },
       {
        "data": "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",
        "encoding": "base64",
        "path": [
         "value",
         "Bezier_points",
         2
        ]
       },
       {
        "data": "zcxMPgAAAAAAAAAAAAAAAM3MzD4AAAAAAAAAAAAAAACamRk/AAAAAAAAAAAAAAAAzcxMPwAAAAAAAAAAAAAAAAAAgD8AAAAAAAAAAAAAAAAAAIA/zcxMPgAAAAAAAAAAAACAP83MzD4AAAAAAAAAAAAAgD+amRk/AAAAAAAAAAAAAIA/zcxMPwAAAAAAAAAAAACAPwAAgD8AAAAAAAAAAM3MTD8AAIA/AAAAAAAAAACamRk/AACAPwAAAAAAAAAAzczMPgAAgD8AAAAAAAAAAM3MTD4AAIA/AAAAAAAAAAAAAAAAAACAPwAAAAAAAAAAAAAAAM3MTD8AAAAAAAAAAAAAAACamRk/AAAAAAAAAAAAAAAAzczMPgAAAAAAAAAAAAAAAM3MTD4AAAAAAAAAAAAAAAAAAAAAAAAAAAAAAAA=",
        "encoding": "base64",
        "path": [
         "value",
         "edges",
         0
        ]
       },
       {
        "data": "zczMPQAAAAAAAAAAAAAAAJqZmT4AAAAAAAAAAAAAAAAAAAA/AAAAAAAAAAAAAAAAMzMzPwAAAAAAAAAAAAAAAGZmZj8AAAAAAAAAAAAAAAAAAIA/zczMPQAAAAAAAAAAAACAP5qZmT4AAAAAAAAAAAAAgD8AAAA/AAAAAAAAAAAAAIA/MzMzPwAAAAAAAAAAAACAP2ZmZj8AAAAAAAAAAGZmZj8AAIA/AAAAAAAAAAAzMzM/AACAPwAAAAAAAAAAAAAAPwAAgD8AAAAAAAAAAJqZmT4AAIA/AAAAAAAAAADNzMw9AACAPwAAAAAAAAAAAAAAAGZmZj8AAAAAAAAAAAAAAAAzMzM/AAAAAAAAAAAAAAAAAAAAPwAAAAAAAAAAAAAAAJqZmT4AAAAAAAAAAAAAAADNzMw9AAAAAAAAAAA=",
        "encoding": "base64",
        "path": [
         "value",
         "edges",
         1
        ]
       },
       {
        "data": "AAAAAAAAAAAAAAAAAAAAAM3MTD4AAAAAAAAAAAAAAADNzMw+AAAAAAAAAAAAAAAAmpkZPwAAAAAAAAAAAAAAAM3MTD8AAAAAAAAAAAAAAAAAAIA/AAAAAAAAAAAAAAAAAACAP83MTD4AAAAAAAAAAAAAgD/NzMw+AAAAAAAAAAAAAIA/mpkZPwAAAAAAAAAAAACAP83MTD8AAAAAAAAAAAAAgD8AAIA/AAAAAAAAAADNzEw/AACAPwAAAAAAAAAAmpkZPwAAgD8AAAAAAAAAAM3MzD4AAIA/AAAAAAAAAADNzEw+AACAPwAAAAAAAAAAAAAAAAAAgD8AAAAAAAAAAAAAAADNzEw/AAAAAAAAAAAAAAAAmpkZPwAAAAAAAAAAAAAAAM3MzD4AAAAAAAAAAAAAAADNzEw+AAAAAAAAAAA=",
        "encoding": "base64",
        "path": [
         "value",
         "edges",
         2
        ]
       },
       {
        "data": "AAAAAM3MTD4AAAAAAAAAACmOij6zRkc+AAAAAOVh/T5I2Pk+eLw9PgAAAABFeRo/KY6KPrNGRz4AAAAA5WH9Pv2pNT8oNjg+AAAAAKUA+T5I2Pk+eLw9PgAAAABFeRo/zcxMPwAAAAAAAAAAAAAAAP2pNT8oNjg+AAAAAKUA+T5+fCs/cyQAPwAAAABkcmI/2klMPzwPtj4AAAAAikcXPx0/9T5IBxY/AAAAAJDzdz9RLVU/tbALPwAAAACCbw0/2klMPzwPtj4AAAAAikcXP73NVj9aAj4/AAAAAHic0z5RLVU/tbALPwAAAACCbw0/AACAP83MTD8AAAAAAAAAAJ5cMD/F/Vg/AAAAALXA4j4XSgU/1JZQPwAAAACyPRo/nlwwP8X9WD8AAAAAtcDiPp3Uqz4Yxks/AAAAAJtJFD8XSgU/1JZQPwAAAACyPRo/zcxMPgAAgD8AAAAAAAAAAJ3Uqz4Yxks/AAAAAJtJFD8B7hs+CQFLPwAAAACVja0+xyArP7o7LD8AAAAAbdNHPwHuGz4JAUs/AAAAAJWNrT5UPi0+4qbJPgAAAAA8bQk/HT/1PkgHFj8AAAAAkPN3P1Q+LT7ipsk+AAAAADxtCT8AAAAAzcxMPgAAAAAAAAAAvc1WP1oCPj8AAAAAeJzTPr3NVj9aAj4/AAAAAHic0z5UPi0+4qbJPgAAAAA8bQk/jKkUPxbctj4AAAAAEPZkP+sVwD7QbsU+AAAAALJ1Yz/rFcA+0G7FPgAAAACydWM/xyArP7o7LD8AAAAAbdNHP8cgKz+6Oyw/AAAAAG3TRz/9qTU/KDY4PgAAAAClAPk+jKkUPxbctj4AAAAAEPZkP8IHgT6/gBc/AAAAAH19Oj8B7hs+CQFLPwAAAACVja0+HT/1PkgHFj8AAAAAkPN3P8cgKz+6Oyw/AAAAAG3TRz/CB4E+v4AXPwAAAAB9fTo/VD4tPuKmyT4AAAAAPG0JP8IHgT6/gBc/AAAAAH19Oj9+fCs/cyQAPwAAAABkcmI/jKkUPxbctj4AAAAAEPZkP358Kz9zJAA/AAAAAGRyYj/rFcA+0G7FPgAAAACydWM/wgeBPr+AFz8AAAAAfX06Pw==",
        "encoding": "base64",
        "path": [
         "value",
         "Bezier_trig_points",
         0
        ]
       },
       {
        "data": "AAAAAM3MzD0AAAAAAAAAAI/0cD6zRsc9AAAAAEJEhD6KUuM+eLy9PQAAAAAvgLk+e62rPrNGxz0AAAAAD/XBPsuhJz8oNrg9AAAAAFOXsj7fQgs/eLy9PQAAAADBHbs+ZmZmPwAAAAAAAAAAAAAAAGU7QT8oNrg9AAAAAFRbdz6iTis/FjAWPwAAAADyo2I/7SRmP9E6jj4AAAAADQWTPqbp/z4OTzM/AAAAAJ+mZD+olmo/GxfyPgAAAADAeas+7SRmPwRuwT4AAAAAuHDGPt5maz/6zSs/AAAAABKtoT6olmo/J6USPwAAAAAd2aU+AACAP2ZmZj8AAAAAAAAAALWUPj/ifmw/AAAAADnzUz7ZcQ8/aktoPwAAAAD45Lg+HPskP+J+bD8AAAAA0NWWPrVQvD4M42U/AAAAAKSuyD5+sOs+aktoPwAAAADjr7s+zczMPQAAgD8AAAAAAAAAAIIdiT4M42U/AAAAAKvfkT4B7ps9hIBlPwAAAACW8B89bzUYP0dpPj8AAAAAkD9HPwHumz3r5ks/AAAAAM4sSD5UPq09C23+PgAAAABKibM+jaQHP1N18T4AAAAA4gSHP1Q+rT3XOcs+AAAAAINWpj7NzMw9zczMPQAAAAC/aoQ+3mZrP5NnRT8AAAAAwFdYPkXNUT8tAV8/AAAAAC5Epj5UPq09pAaYPgAAAAA/g34+2MoIPyndij4AAAAABytTPwpSpT4ViZQ+AAAAAK3CPz8Z99w+hiaSPgAAAAAI51o/DCdAPzf2Gz8AAAAAO25CP0L3QD8KHzU/AAAAADrSIT/+1Fo/e4FCPgAAAAAPabw+xCklP5V7iT4AAAAAc5U/Py9ulj5rozE/AAAAANahQT8B7ps9UU0yPwAAAABqtJw+3YnQPrDmMD8AAAAAXA5gP7O+LT+/nEI/AAAAALYOKT/CBwE+LI0YPwAAAABnD/g+Uy1hPh6llj4AAAAAIrwfP+ymVz4wVPw+AAAAAKRwMj8s4zs/ESzbPgAAAABlwUo/s3kwP6l1tj4AAAAAcENUP+dUQD+U6gU/AAAAAMHqRT+CtPQ+cyW+PgAAAAB3/ng/1o6gPic4+j4AAAAAlJdpPw==",
        "encoding": "base64",
        "path": [
         "value",
         "Bezier_trig_points",
         1
        ]
       },
       {
        "data": "AAAAAAAAAAAAAAAAAAAAAM3MTD4AAAAAAAAAAAAAAADNzMw+AAAAAAAAAAAAAAAAzczMPgAAAAAAAAAAAAAAAJqZGT8AAAAAAAAAAAAAAACamRk/AAAAAAAAAAAAAAAAAACAPwAAAAAAAAAAAAAAAM3MTD8AAAAAAAAAAAAAAADHICs/ujssPwAAAABt00c/AACAP83MTD4AAAAAAAAAABdKBT/UllA/AAAAALI9Gj8AAIA/zczMPgAAAAAAAAAAAACAP83MzD4AAAAAAAAAAAAAgD+amRk/AAAAAAAAAAAAAIA/mpkZPwAAAAAAAAAAAACAPwAAgD8AAAAAAAAAAM3MTD8AAIA/AAAAAAAAAACamRk/AACAPwAAAAAAAAAAmpkZPwAAgD8AAAAAAAAAAM3MzD4AAIA/AAAAAAAAAADNzMw+AACAPwAAAAAAAAAAAAAAAAAAgD8AAAAAAAAAAM3MTD4AAIA/AAAAAAAAAAAAAAAAAACAPwAAAAAAAAAAF0oFP9SWUD8AAAAAsj0aPwAAAADNzEw/AAAAAAAAAAAAAAAAmpkZPwAAAAAAAAAAjKkUPxbctj4AAAAAEPZkPwAAAADNzMw+AAAAAAAAAADNzEw+AAAAAAAAAAAAAAAAAACAP83MTD8AAAAAAAAAAM3MTD8AAIA/AAAAAAAAAAAAAAAAzcxMPgAAAAAAAAAASNj5Pni8PT4AAAAARXkaPymOij6zRkc+AAAAAOVh/T5I2Pk+eLw9PgAAAABFeRo/US1VP7WwCz8AAAAAgm8NP73NVj9aAj4/AAAAAHic0z4AAIA/zcxMPgAAAAAAAAAA/ak1Pyg2OD4AAAAApQD5Pp3Uqz4Yxks/AAAAAJtJFD8AAAAAmpkZPwAAAAAAAAAAndSrPhjGSz8AAAAAm0kUP55cMD/F/Vg/AAAAALXA4j4AAAAAmpkZPwAAAAAAAAAAKY6KPrNGRz4AAAAA5WH9PlQ+LT7ipsk+AAAAADxtCT/aSUw/PA+2PgAAAACKRxc/2klMPzwPtj4AAAAAikcXP1EtVT+1sAs/AAAAAIJvDT+MqRQ/Fty2PgAAAAAQ9mQ/6xXAPtBuxT4AAAAAsnVjPw==",
        "encoding": "base64",
        "path": [
         "value",
         "Bezier_trig_points",
         2
        ]
       },
       {
        "data": "zczMPc3MzD0AAAAAv2qEPnutqz6zRsc9AAAAAA/1wT7fQgs/eLy9PQAAAADBHbs+ODPCPpWBQj4AAAAA8TEcP2U7QT8oNrg9AAAAAFRbdz4QSxk/UPk6PgAAAAAAQxo/ZmZmP83MzD0AAAAAD2mEPv7UWj97gUI+AAAAAA9pvD4GDhM/3RULPwAAAAC214E/7SRmPwRuwT4AAAAAuHDGPt2J0D6w5jA/AAAAAFwOYD+olmo/J6USPwAAAAAd2aU+lrtQP1K45j4AAAAAlvceP95maz+TZ0U/AAAAAMBXWD6H/VU/h9kkPwAAAADWCQY/ZmZmP2ZmZj8AAAAAaWmEPhz7JD/ifmw/AAAAANDVlj5+sOs+aktoPwAAAADjr7s+W9MaP0zKVD8AAAAA8+gMP4IdiT4M42U/AAAAAKvfkT5mNNs+di5OPwAAAACHHSM/Z100PoSAZT8AAAAAN+CFPp3LeT6QY0s/AAAAANAtAT8B7ps96+ZLPwAAAADOLEg+K+ASP4EhIT8AAAAAXGlzPwHumz1RTTI/AAAAAGq0nD5UPq091znLPgAAAACDVqY+Bg4TP90VCz8AAAAAtteBP1Q+rT2kBpg+AAAAAD+Dfj4pjgo+wAlKPgAAAAAz9rA+Rc1RPy0BXz8AAAAALkSmPi2VQz8PgEs/AAAAACItAz9TLWE+HqWWPgAAAAAivB8/xCklP5V7iT4AAAAAc5U/Pxn33D6GJpI+AAAAAAjnWj+CtPQ+cyW+PgAAAAB3/ng/QvdAPwofNT8AAAAAOtIhP7O+LT+/nEI/AAAAALYOKT/r+UA/KBWJPgAAAABsJiA/s3kwP6l1tj4AAAAAcENUP8L+Tj7kQDE/AAAAAGS+ED/C/k4+5EAxPwAAAABkvhA/byO7PgPEFj8AAAAA4LxyP281GD9HaT4/AAAAAJA/Rz/splc+MFT8PgAAAACkcDI/i1qLPtmKxz4AAAAAOIpLP9aOoD4nOPo+AAAAAJSXaT/nVEA/lOoFPwAAAADB6kU/BRMgP36S2z4AAAAAzmtyP6JOKz8WMBY/AAAAAPKjYj+Eqto+sL74PgAAAACFfYM/byO7PgPEFj8AAAAA4LxyPw==",
        "encoding": "base64",
        "path": [
         "value",
         "Bezier_trig_points",
         3
        ]
       },
       {
        "data": "zczMPQAAAAAAAAAAAAAAAJqZmT4AAAAAAAAAAAAAAAAAAAA/AAAAAAAAAAAAAAAAilLjPni8vT0AAAAAL4C5PjMzMz8AAAAAAAAAAAAAAADLoSc/KDa4PQAAAABTl7I+AACAP83MzD0AAAAAAAAAAGZmZj/NzMw9AAAAAA9phD4r4BI/gSEhPwAAAABcaXM/AACAP5qZmT4AAAAAAAAAAGY02z52Lk4/AAAAAIcdIz8AAIA/AAAAPwAAAAAAAAAAqJZqPxsX8j4AAAAAwHmrPgAAgD8zMzM/AAAAAAAAAADeZms/+s0rPwAAAAASraE+ZmZmPwAAgD8AAAAAAAAAADMzMz8AAIA/AAAAAAAAAAAAAAA/AACAPwAAAAAAAAAA2XEPP2pLaD8AAAAA+OS4PpqZmT4AAIA/AAAAAAAAAAC1ULw+DONlPwAAAACkrsg+Ae6bPYSAZT8AAAAAlvAfPWddND6EgGU/AAAAADfghT4AAAAAZmZmPwAAAAAAAAAApun/Pg5PMz8AAAAAn6ZkPwAAAAAzMzM/AAAAAAAAAAAAAAAAAAAAPwAAAAAAAAAABRMgP36S2z4AAAAAzmtyPwAAAACamZk+AAAAAAAAAACP9HA+s0bHPQAAAABCRIQ+ZmZmP2ZmZj8AAAAAaWmEPrWUPj/ifmw/AAAAADnzUz4pjgo+wAlKPgAAAAAz9rA+EEsZP1D5Oj4AAAAAAEMaPzgzwj6VgUI+AAAAAPExHD/Yygg/Kd2KPgAAAAAHK1M/h/1VP4fZJD8AAAAA1gkGPy2VQz8PgEs/AAAAACItAz/tJGY/0TqOPgAAAAANBZM+6/lAPygViT4AAAAAbCYgP53LeT6QY0s/AAAAANAtAT/CBwE+LI0YPwAAAABnD/g+L26WPmujMT8AAAAA1qFBP1vTGj9MylQ/AAAAAPPoDD9UPq09C23+PgAAAABKibM+ClKlPhWJlD4AAAAArcI/P4taiz7Zisc+AAAAADiKSz+Wu1A/UrjmPgAAAACW9x4/LOM7PxEs2z4AAAAAZcFKPwwnQD839hs/AAAAADtuQj+NpAc/U3XxPgAAAADiBIc/hKraPrC++D4AAAAAhX2DPw==",
        "encoding": "base64",
        "path": [
         "value",
         "Bezier_trig_points",
         4
        ]
       },
       {
        "data": "zcxMPgAAAAAAAAAAAAAAAM3MzD4AAAAAAAAAAAAAAACamRk/AAAAAAAAAAAAAAAASNj5Pni8PT4AAAAARXkaP83MTD8AAAAAAAAAAAAAAAD9qTU/KDY4PgAAAAClAPk+AACAP83MTD4AAAAAAAAAAAAAgD/NzEw+AAAAAAAAAAAdP/U+SAcWPwAAAACQ83c/AACAP83MzD4AAAAAAAAAAJ3Uqz4Yxks/AAAAAJtJFD8AAIA/mpkZPwAAAAAAAAAAUS1VP7WwCz8AAAAAgm8NPwAAgD/NzEw/AAAAAAAAAAC9zVY/WgI+PwAAAAB4nNM+zcxMPwAAgD8AAAAAAAAAAJqZGT8AAIA/AAAAAAAAAADNzMw+AACAPwAAAAAAAAAAF0oFP9SWUD8AAAAAsj0aP83MTD4AAIA/AAAAAAAAAACd1Ks+GMZLPwAAAACbSRQ/Ae4bPgkBSz8AAAAAlY2tPgHuGz4JAUs/AAAAAJWNrT4AAAAAzcxMPwAAAAAAAAAAHT/1PkgHFj8AAAAAkPN3PwAAAACamRk/AAAAAAAAAAAAAAAAzczMPgAAAAAAAAAAfnwrP3MkAD8AAAAAZHJiPwAAAADNzEw+AAAAAAAAAAApjoo+s0ZHPgAAAADlYf0+zcxMPwAAgD8AAAAAAAAAAJ5cMD/F/Vg/AAAAALXA4j4pjoo+s0ZHPgAAAADlYf0+/ak1Pyg2OD4AAAAApQD5PkjY+T54vD0+AAAAAEV5Gj+MqRQ/Fty2PgAAAAAQ9mQ/vc1WP1oCPj8AAAAAeJzTPp5cMD/F/Vg/AAAAALXA4j7aSUw/PA+2PgAAAACKRxc/2klMPzwPtj4AAAAAikcXPwHuGz4JAUs/AAAAAJWNrT7CB4E+v4AXPwAAAAB9fTo/wgeBPr+AFz8AAAAAfX06PxdKBT/UllA/AAAAALI9Gj9UPi0+4qbJPgAAAAA8bQk/6xXAPtBuxT4AAAAAsnVjP+sVwD7QbsU+AAAAALJ1Yz9RLVU/tbALPwAAAACCbw0/fnwrP3MkAD8AAAAAZHJiP8cgKz+6Oyw/AAAAAG3TRz8dP/U+SAcWPwAAAACQ83c/HT/1PkgHFj8AAAAAkPN3Pw==",
        "encoding": "base64",
        "path": [
         "value",
         "Bezier_trig_points",
         5
        ]
       }
      ],
      "model_module": "webgui_jupyter_widgets",
      "model_module_version": "0.2.24",
      "model_name": "WebguiModel",
      "state": {
       "layout": "IPY_MODEL_5f23abe1b6ce4b7b99984ebdd59ac944",
       "value": {
        "Bezier_points": [
         {},
         {},
         {}
        ],
        "Bezier_trig_points": [
         {},
         {},
         {},
         {},
         {},
         {}
        ],
        "autoscale": true,
        "deformation": false,
        "draw_surf": true,
        "draw_vol": false,
        "edges": [
         {},
         {},
         {}
        ],
        "funcdim": 1,
        "funcmax": 0.9931532278437536,
        "funcmin": 0,
        "gui_settings": {},
        "mesh_center": [
         0.5,
         0.5,
         1.1125369292536007e-308
        ],
        "mesh_dim": 2,
        "mesh_radius": 0.7071067811865476,
        "ngsolve_version": "6.2.2302-64-g62a6de69a",
        "objects": [],
        "order2d": 2,
        "order3d": 2,
        "show_mesh": true,
        "show_wireframe": true
       }
      }
     },
     "5f23abe1b6ce4b7b99984ebdd59ac944": {
      "model_module": "@jupyter-widgets/base",
      "model_module_version": "2.0.0",
      "model_name": "LayoutModel",
      "state": {
       "height": "50vh",
       "width": "100%"
      }
     },
     "659016de566d46bda2e1ab41474dc4e3": {
      "model_module": "@jupyter-widgets/controls",
      "model_module_version": "2.0.0",
      "model_name": "ProgressStyleModel",
      "state": {
       "description_width": ""
      }
     },
     "6dd483d9cc3b4806ad743d4ff410e389": {
      "model_module": "@jupyter-widgets/base",
      "model_module_version": "2.0.0",
      "model_name": "LayoutModel",
      "state": {}
     },
     "6eee71c88aef4b0eba393514b0099b21": {
      "model_module": "@jupyter-widgets/controls",
      "model_module_version": "2.0.0",
      "model_name": "HTMLModel",
      "state": {
       "layout": "IPY_MODEL_99396446e44346f28d84df8a0a236510",
       "style": "IPY_MODEL_d0c71e3e1a2943e6a06474c953e9954c",
       "value": "100%"
      }
     },
     "95a811a3d7e14b1ab569bb52e6b455f6": {
      "model_module": "@jupyter-widgets/base",
      "model_module_version": "2.0.0",
      "model_name": "LayoutModel",
      "state": {
       "height": "50vh",
       "width": "100%"
      }
     },
     "99396446e44346f28d84df8a0a236510": {
      "model_module": "@jupyter-widgets/base",
      "model_module_version": "2.0.0",
      "model_name": "LayoutModel",
      "state": {}
     },
     "a01eeaa55b2a427eb7f369f1887e6f5d": {
      "model_module": "@jupyter-widgets/base",
      "model_module_version": "2.0.0",
      "model_name": "LayoutModel",
      "state": {
       "height": "50vh",
       "width": "100%"
      }
     },
     "aa6741bffae944049b5b030680d60f17": {
      "buffers": [
       {
        "data": "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",
        "encoding": "base64",
        "path": [
         "value",
         "Bezier_points",
         0
        ]
       },
       {
        "data": "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",
        "encoding": "base64",
        "path": [
         "value",
         "Bezier_points",
         1
        ]
       },
       {
        "data": "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",
        "encoding": "base64",
        "path": [
         "value",
         "Bezier_points",
         2
        ]
       },
       {
        "data": "zcxMPgAAAAAAAAAAAAAAAM3MzD4AAAAAAAAAAAAAAACamRk/AAAAAAAAAAAAAAAAzcxMPwAAAAAAAAAAAAAAAAAAgD8AAAAAAAAAAAAAAAAAAIA/zcxMPgAAAAAAAAAAAACAP83MzD4AAAAAAAAAAAAAgD+amRk/AAAAAAAAAAAAAIA/zcxMPwAAAAAAAAAAAACAPwAAgD8AAAAAAAAAAM3MTD8AAIA/AAAAAAAAAACamRk/AACAPwAAAAAAAAAAzczMPgAAgD8AAAAAAAAAAM3MTD4AAIA/AAAAAAAAAAAAAAAAAACAPwAAAAAAAAAAAAAAAM3MTD8AAAAAAAAAAAAAAACamRk/AAAAAAAAAAAAAAAAzczMPgAAAAAAAAAAAAAAAM3MTD4AAAAAAAAAAAAAAAAAAAAAAAAAAAAAAAA=",
        "encoding": "base64",
        "path": [
         "value",
         "edges",
         0
        ]
       },
       {
        "data": "zczMPQAAAAAAAAAAAAAAAJqZmT4AAAAAAAAAAAAAAAAAAAA/AAAAAAAAAAAAAAAAMzMzPwAAAAAAAAAAAAAAAGZmZj8AAAAAAAAAAAAAAAAAAIA/zczMPQAAAAAAAAAAAACAP5qZmT4AAAAAAAAAAAAAgD8AAAA/AAAAAAAAAAAAAIA/MzMzPwAAAAAAAAAAAACAP2ZmZj8AAAAAAAAAAGZmZj8AAIA/AAAAAAAAAAAzMzM/AACAPwAAAAAAAAAAAAAAPwAAgD8AAAAAAAAAAJqZmT4AAIA/AAAAAAAAAADNzMw9AACAPwAAAAAAAAAAAAAAAGZmZj8AAAAAAAAAAAAAAAAzMzM/AAAAAAAAAAAAAAAAAAAAPwAAAAAAAAAAAAAAAJqZmT4AAAAAAAAAAAAAAADNzMw9AAAAAAAAAAA=",
        "encoding": "base64",
        "path": [
         "value",
         "edges",
         1
        ]
       },
       {
        "data": "AAAAAAAAAAAAAAAAAAAAAM3MTD4AAAAAAAAAAAAAAADNzMw+AAAAAAAAAAAAAAAAmpkZPwAAAAAAAAAAAAAAAM3MTD8AAAAAAAAAAAAAAAAAAIA/AAAAAAAAAAAAAAAAAACAP83MTD4AAAAAAAAAAAAAgD/NzMw+AAAAAAAAAAAAAIA/mpkZPwAAAAAAAAAAAACAP83MTD8AAAAAAAAAAAAAgD8AAIA/AAAAAAAAAADNzEw/AACAPwAAAAAAAAAAmpkZPwAAgD8AAAAAAAAAAM3MzD4AAIA/AAAAAAAAAADNzEw+AACAPwAAAAAAAAAAAAAAAAAAgD8AAAAAAAAAAAAAAADNzEw/AAAAAAAAAAAAAAAAmpkZPwAAAAAAAAAAAAAAAM3MzD4AAAAAAAAAAAAAAADNzEw+AAAAAAAAAAA=",
        "encoding": "base64",
        "path": [
         "value",
         "edges",
         2
        ]
       },
       {
        "data": "AAAAAM3MTD4AAAAAAAAAACmOij6zRkc+AAAAAOVh/T5I2Pk+eLw9PgAAAABFeRo/KY6KPrNGRz4AAAAA5WH9Pv2pNT8oNjg+AAAAAKUA+T5I2Pk+eLw9PgAAAABFeRo/zcxMPwAAAAAAAAAAAAAAAP2pNT8oNjg+AAAAAKUA+T5+fCs/cyQAPwAAAABkcmI/2klMPzwPtj4AAAAAikcXPx0/9T5IBxY/AAAAAJDzdz9RLVU/tbALPwAAAACCbw0/2klMPzwPtj4AAAAAikcXP73NVj9aAj4/AAAAAHic0z5RLVU/tbALPwAAAACCbw0/AACAP83MTD8AAAAAAAAAAJ5cMD/F/Vg/AAAAALXA4j4XSgU/1JZQPwAAAACyPRo/nlwwP8X9WD8AAAAAtcDiPp3Uqz4Yxks/AAAAAJtJFD8XSgU/1JZQPwAAAACyPRo/zcxMPgAAgD8AAAAAAAAAAJ3Uqz4Yxks/AAAAAJtJFD8B7hs+CQFLPwAAAACVja0+xyArP7o7LD8AAAAAbdNHPwHuGz4JAUs/AAAAAJWNrT5UPi0+4qbJPgAAAAA8bQk/HT/1PkgHFj8AAAAAkPN3P1Q+LT7ipsk+AAAAADxtCT8AAAAAzcxMPgAAAAAAAAAAvc1WP1oCPj8AAAAAeJzTPr3NVj9aAj4/AAAAAHic0z5UPi0+4qbJPgAAAAA8bQk/jKkUPxbctj4AAAAAEPZkP+sVwD7QbsU+AAAAALJ1Yz/rFcA+0G7FPgAAAACydWM/xyArP7o7LD8AAAAAbdNHP8cgKz+6Oyw/AAAAAG3TRz/9qTU/KDY4PgAAAAClAPk+jKkUPxbctj4AAAAAEPZkP8IHgT6/gBc/AAAAAH19Oj8B7hs+CQFLPwAAAACVja0+HT/1PkgHFj8AAAAAkPN3P8cgKz+6Oyw/AAAAAG3TRz/CB4E+v4AXPwAAAAB9fTo/VD4tPuKmyT4AAAAAPG0JP8IHgT6/gBc/AAAAAH19Oj9+fCs/cyQAPwAAAABkcmI/jKkUPxbctj4AAAAAEPZkP358Kz9zJAA/AAAAAGRyYj/rFcA+0G7FPgAAAACydWM/wgeBPr+AFz8AAAAAfX06Pw==",
        "encoding": "base64",
        "path": [
         "value",
         "Bezier_trig_points",
         0
        ]
       },
       {
        "data": "AAAAAM3MzD0AAAAAAAAAAI/0cD6zRsc9AAAAAEJEhD6KUuM+eLy9PQAAAAAvgLk+e62rPrNGxz0AAAAAD/XBPsuhJz8oNrg9AAAAAFOXsj7fQgs/eLy9PQAAAADBHbs+ZmZmPwAAAAAAAAAAAAAAAGU7QT8oNrg9AAAAAFRbdz6iTis/FjAWPwAAAADyo2I/7SRmP9E6jj4AAAAADQWTPqbp/z4OTzM/AAAAAJ+mZD+olmo/GxfyPgAAAADAeas+7SRmPwRuwT4AAAAAuHDGPt5maz/6zSs/AAAAABKtoT6olmo/J6USPwAAAAAd2aU+AACAP2ZmZj8AAAAAAAAAALWUPj/ifmw/AAAAADnzUz7ZcQ8/aktoPwAAAAD45Lg+HPskP+J+bD8AAAAA0NWWPrVQvD4M42U/AAAAAKSuyD5+sOs+aktoPwAAAADjr7s+zczMPQAAgD8AAAAAAAAAAIIdiT4M42U/AAAAAKvfkT4B7ps9hIBlPwAAAACW8B89bzUYP0dpPj8AAAAAkD9HPwHumz3r5ks/AAAAAM4sSD5UPq09C23+PgAAAABKibM+jaQHP1N18T4AAAAA4gSHP1Q+rT3XOcs+AAAAAINWpj7NzMw9zczMPQAAAAC/aoQ+3mZrP5NnRT8AAAAAwFdYPkXNUT8tAV8/AAAAAC5Epj5UPq09pAaYPgAAAAA/g34+2MoIPyndij4AAAAABytTPwpSpT4ViZQ+AAAAAK3CPz8Z99w+hiaSPgAAAAAI51o/DCdAPzf2Gz8AAAAAO25CP0L3QD8KHzU/AAAAADrSIT/+1Fo/e4FCPgAAAAAPabw+xCklP5V7iT4AAAAAc5U/Py9ulj5rozE/AAAAANahQT8B7ps9UU0yPwAAAABqtJw+3YnQPrDmMD8AAAAAXA5gP7O+LT+/nEI/AAAAALYOKT/CBwE+LI0YPwAAAABnD/g+Uy1hPh6llj4AAAAAIrwfP+ymVz4wVPw+AAAAAKRwMj8s4zs/ESzbPgAAAABlwUo/s3kwP6l1tj4AAAAAcENUP+dUQD+U6gU/AAAAAMHqRT+CtPQ+cyW+PgAAAAB3/ng/1o6gPic4+j4AAAAAlJdpPw==",
        "encoding": "base64",
        "path": [
         "value",
         "Bezier_trig_points",
         1
        ]
       },
       {
        "data": "AAAAAAAAAAAAAAAAAAAAAM3MTD4AAAAAAAAAAAAAAADNzMw+AAAAAAAAAAAAAAAAzczMPgAAAAAAAAAAAAAAAJqZGT8AAAAAAAAAAAAAAACamRk/AAAAAAAAAAAAAAAAAACAPwAAAAAAAAAAAAAAAM3MTD8AAAAAAAAAAAAAAADHICs/ujssPwAAAABt00c/AACAP83MTD4AAAAAAAAAABdKBT/UllA/AAAAALI9Gj8AAIA/zczMPgAAAAAAAAAAAACAP83MzD4AAAAAAAAAAAAAgD+amRk/AAAAAAAAAAAAAIA/mpkZPwAAAAAAAAAAAACAPwAAgD8AAAAAAAAAAM3MTD8AAIA/AAAAAAAAAACamRk/AACAPwAAAAAAAAAAmpkZPwAAgD8AAAAAAAAAAM3MzD4AAIA/AAAAAAAAAADNzMw+AACAPwAAAAAAAAAAAAAAAAAAgD8AAAAAAAAAAM3MTD4AAIA/AAAAAAAAAAAAAAAAAACAPwAAAAAAAAAAF0oFP9SWUD8AAAAAsj0aPwAAAADNzEw/AAAAAAAAAAAAAAAAmpkZPwAAAAAAAAAAjKkUPxbctj4AAAAAEPZkPwAAAADNzMw+AAAAAAAAAADNzEw+AAAAAAAAAAAAAAAAAACAP83MTD8AAAAAAAAAAM3MTD8AAIA/AAAAAAAAAAAAAAAAzcxMPgAAAAAAAAAASNj5Pni8PT4AAAAARXkaPymOij6zRkc+AAAAAOVh/T5I2Pk+eLw9PgAAAABFeRo/US1VP7WwCz8AAAAAgm8NP73NVj9aAj4/AAAAAHic0z4AAIA/zcxMPgAAAAAAAAAA/ak1Pyg2OD4AAAAApQD5Pp3Uqz4Yxks/AAAAAJtJFD8AAAAAmpkZPwAAAAAAAAAAndSrPhjGSz8AAAAAm0kUP55cMD/F/Vg/AAAAALXA4j4AAAAAmpkZPwAAAAAAAAAAKY6KPrNGRz4AAAAA5WH9PlQ+LT7ipsk+AAAAADxtCT/aSUw/PA+2PgAAAACKRxc/2klMPzwPtj4AAAAAikcXP1EtVT+1sAs/AAAAAIJvDT+MqRQ/Fty2PgAAAAAQ9mQ/6xXAPtBuxT4AAAAAsnVjPw==",
        "encoding": "base64",
        "path": [
         "value",
         "Bezier_trig_points",
         2
        ]
       },
       {
        "data": "zczMPc3MzD0AAAAAv2qEPnutqz6zRsc9AAAAAA/1wT7fQgs/eLy9PQAAAADBHbs+ODPCPpWBQj4AAAAA8TEcP2U7QT8oNrg9AAAAAFRbdz4QSxk/UPk6PgAAAAAAQxo/ZmZmP83MzD0AAAAAD2mEPv7UWj97gUI+AAAAAA9pvD4GDhM/3RULPwAAAAC214E/7SRmPwRuwT4AAAAAuHDGPt2J0D6w5jA/AAAAAFwOYD+olmo/J6USPwAAAAAd2aU+lrtQP1K45j4AAAAAlvceP95maz+TZ0U/AAAAAMBXWD6H/VU/h9kkPwAAAADWCQY/ZmZmP2ZmZj8AAAAAaWmEPhz7JD/ifmw/AAAAANDVlj5+sOs+aktoPwAAAADjr7s+W9MaP0zKVD8AAAAA8+gMP4IdiT4M42U/AAAAAKvfkT5mNNs+di5OPwAAAACHHSM/Z100PoSAZT8AAAAAN+CFPp3LeT6QY0s/AAAAANAtAT8B7ps96+ZLPwAAAADOLEg+K+ASP4EhIT8AAAAAXGlzPwHumz1RTTI/AAAAAGq0nD5UPq091znLPgAAAACDVqY+Bg4TP90VCz8AAAAAtteBP1Q+rT2kBpg+AAAAAD+Dfj4pjgo+wAlKPgAAAAAz9rA+Rc1RPy0BXz8AAAAALkSmPi2VQz8PgEs/AAAAACItAz9TLWE+HqWWPgAAAAAivB8/xCklP5V7iT4AAAAAc5U/Pxn33D6GJpI+AAAAAAjnWj+CtPQ+cyW+PgAAAAB3/ng/QvdAPwofNT8AAAAAOtIhP7O+LT+/nEI/AAAAALYOKT/r+UA/KBWJPgAAAABsJiA/s3kwP6l1tj4AAAAAcENUP8L+Tj7kQDE/AAAAAGS+ED/C/k4+5EAxPwAAAABkvhA/byO7PgPEFj8AAAAA4LxyP281GD9HaT4/AAAAAJA/Rz/splc+MFT8PgAAAACkcDI/i1qLPtmKxz4AAAAAOIpLP9aOoD4nOPo+AAAAAJSXaT/nVEA/lOoFPwAAAADB6kU/BRMgP36S2z4AAAAAzmtyP6JOKz8WMBY/AAAAAPKjYj+Eqto+sL74PgAAAACFfYM/byO7PgPEFj8AAAAA4LxyPw==",
        "encoding": "base64",
        "path": [
         "value",
         "Bezier_trig_points",
         3
        ]
       },
       {
        "data": "zczMPQAAAAAAAAAAAAAAAJqZmT4AAAAAAAAAAAAAAAAAAAA/AAAAAAAAAAAAAAAAilLjPni8vT0AAAAAL4C5PjMzMz8AAAAAAAAAAAAAAADLoSc/KDa4PQAAAABTl7I+AACAP83MzD0AAAAAAAAAAGZmZj/NzMw9AAAAAA9phD4r4BI/gSEhPwAAAABcaXM/AACAP5qZmT4AAAAAAAAAAGY02z52Lk4/AAAAAIcdIz8AAIA/AAAAPwAAAAAAAAAAqJZqPxsX8j4AAAAAwHmrPgAAgD8zMzM/AAAAAAAAAADeZms/+s0rPwAAAAASraE+ZmZmPwAAgD8AAAAAAAAAADMzMz8AAIA/AAAAAAAAAAAAAAA/AACAPwAAAAAAAAAA2XEPP2pLaD8AAAAA+OS4PpqZmT4AAIA/AAAAAAAAAAC1ULw+DONlPwAAAACkrsg+Ae6bPYSAZT8AAAAAlvAfPWddND6EgGU/AAAAADfghT4AAAAAZmZmPwAAAAAAAAAApun/Pg5PMz8AAAAAn6ZkPwAAAAAzMzM/AAAAAAAAAAAAAAAAAAAAPwAAAAAAAAAABRMgP36S2z4AAAAAzmtyPwAAAACamZk+AAAAAAAAAACP9HA+s0bHPQAAAABCRIQ+ZmZmP2ZmZj8AAAAAaWmEPrWUPj/ifmw/AAAAADnzUz4pjgo+wAlKPgAAAAAz9rA+EEsZP1D5Oj4AAAAAAEMaPzgzwj6VgUI+AAAAAPExHD/Yygg/Kd2KPgAAAAAHK1M/h/1VP4fZJD8AAAAA1gkGPy2VQz8PgEs/AAAAACItAz/tJGY/0TqOPgAAAAANBZM+6/lAPygViT4AAAAAbCYgP53LeT6QY0s/AAAAANAtAT/CBwE+LI0YPwAAAABnD/g+L26WPmujMT8AAAAA1qFBP1vTGj9MylQ/AAAAAPPoDD9UPq09C23+PgAAAABKibM+ClKlPhWJlD4AAAAArcI/P4taiz7Zisc+AAAAADiKSz+Wu1A/UrjmPgAAAACW9x4/LOM7PxEs2z4AAAAAZcFKPwwnQD839hs/AAAAADtuQj+NpAc/U3XxPgAAAADiBIc/hKraPrC++D4AAAAAhX2DPw==",
        "encoding": "base64",
        "path": [
         "value",
         "Bezier_trig_points",
         4
        ]
       },
       {
        "data": "zcxMPgAAAAAAAAAAAAAAAM3MzD4AAAAAAAAAAAAAAACamRk/AAAAAAAAAAAAAAAASNj5Pni8PT4AAAAARXkaP83MTD8AAAAAAAAAAAAAAAD9qTU/KDY4PgAAAAClAPk+AACAP83MTD4AAAAAAAAAAAAAgD/NzEw+AAAAAAAAAAAdP/U+SAcWPwAAAACQ83c/AACAP83MzD4AAAAAAAAAAJ3Uqz4Yxks/AAAAAJtJFD8AAIA/mpkZPwAAAAAAAAAAUS1VP7WwCz8AAAAAgm8NPwAAgD/NzEw/AAAAAAAAAAC9zVY/WgI+PwAAAAB4nNM+zcxMPwAAgD8AAAAAAAAAAJqZGT8AAIA/AAAAAAAAAADNzMw+AACAPwAAAAAAAAAAF0oFP9SWUD8AAAAAsj0aP83MTD4AAIA/AAAAAAAAAACd1Ks+GMZLPwAAAACbSRQ/Ae4bPgkBSz8AAAAAlY2tPgHuGz4JAUs/AAAAAJWNrT4AAAAAzcxMPwAAAAAAAAAAHT/1PkgHFj8AAAAAkPN3PwAAAACamRk/AAAAAAAAAAAAAAAAzczMPgAAAAAAAAAAfnwrP3MkAD8AAAAAZHJiPwAAAADNzEw+AAAAAAAAAAApjoo+s0ZHPgAAAADlYf0+zcxMPwAAgD8AAAAAAAAAAJ5cMD/F/Vg/AAAAALXA4j4pjoo+s0ZHPgAAAADlYf0+/ak1Pyg2OD4AAAAApQD5PkjY+T54vD0+AAAAAEV5Gj+MqRQ/Fty2PgAAAAAQ9mQ/vc1WP1oCPj8AAAAAeJzTPp5cMD/F/Vg/AAAAALXA4j7aSUw/PA+2PgAAAACKRxc/2klMPzwPtj4AAAAAikcXPwHuGz4JAUs/AAAAAJWNrT7CB4E+v4AXPwAAAAB9fTo/wgeBPr+AFz8AAAAAfX06PxdKBT/UllA/AAAAALI9Gj9UPi0+4qbJPgAAAAA8bQk/6xXAPtBuxT4AAAAAsnVjP+sVwD7QbsU+AAAAALJ1Yz9RLVU/tbALPwAAAACCbw0/fnwrP3MkAD8AAAAAZHJiP8cgKz+6Oyw/AAAAAG3TRz8dP/U+SAcWPwAAAACQ83c/HT/1PkgHFj8AAAAAkPN3Pw==",
        "encoding": "base64",
        "path": [
         "value",
         "Bezier_trig_points",
         5
        ]
       }
      ],
      "model_module": "webgui_jupyter_widgets",
      "model_module_version": "0.2.24",
      "model_name": "WebguiModel",
      "state": {
       "layout": "IPY_MODEL_a01eeaa55b2a427eb7f369f1887e6f5d",
       "value": {
        "Bezier_points": [
         {},
         {},
         {}
        ],
        "Bezier_trig_points": [
         {},
         {},
         {},
         {},
         {},
         {}
        ],
        "autoscale": true,
        "deformation": false,
        "draw_surf": true,
        "draw_vol": false,
        "edges": [
         {},
         {},
         {}
        ],
        "funcdim": 1,
        "funcmax": 0.9931532278437536,
        "funcmin": 0,
        "gui_settings": {},
        "mesh_center": [
         0.5,
         0.5,
         1.1125369292536007e-308
        ],
        "mesh_dim": 2,
        "mesh_radius": 0.7071067811865476,
        "ngsolve_version": "6.2.2302-64-g62a6de69a",
        "objects": [],
        "order2d": 2,
        "order3d": 2,
        "show_mesh": true,
        "show_wireframe": true
       }
      }
     },
     "b2308135a7a54b01978ebc713ed8d873": {
      "model_module": "@jupyter-widgets/controls",
      "model_module_version": "2.0.0",
      "model_name": "HTMLStyleModel",
      "state": {
       "description_width": "",
       "font_size": null,
       "text_color": null
      }
     },
     "b788047c1b764bc8b2e86f70eeecc18f": {
      "model_module": "@jupyter-widgets/base",
      "model_module_version": "2.0.0",
      "model_name": "LayoutModel",
      "state": {}
     },
     "b97bc1cdd6724907b22bc8c541ab3216": {
      "model_module": "@jupyter-widgets/base",
      "model_module_version": "2.0.0",
      "model_name": "LayoutModel",
      "state": {}
     },
     "becb646f6f9e49179b72de70468a286e": {
      "model_module": "@jupyter-widgets/controls",
      "model_module_version": "2.0.0",
      "model_name": "HTMLStyleModel",
      "state": {
       "description_width": "",
       "font_size": null,
       "text_color": null
      }
     },
     "cba3f01ae1a241088cda9559badc92d3": {
      "model_module": "@jupyter-widgets/controls",
      "model_module_version": "2.0.0",
      "model_name": "HTMLModel",
      "state": {
       "layout": "IPY_MODEL_2fc0c63590784640abee3223dc009233",
       "style": "IPY_MODEL_d9f64e6b154b49b692780bf0adf749fd",
       "value": " 1/1 [00:05&lt;00:00,  5.68s/engine]"
      }
     },
     "cee93520f636404cbd4c87b2776a1a38": {
      "model_module": "@jupyter-widgets/base",
      "model_module_version": "2.0.0",
      "model_name": "LayoutModel",
      "state": {}
     },
     "d0c71e3e1a2943e6a06474c953e9954c": {
      "model_module": "@jupyter-widgets/controls",
      "model_module_version": "2.0.0",
      "model_name": "HTMLStyleModel",
      "state": {
       "description_width": "",
       "font_size": null,
       "text_color": null
      }
     },
     "d9f64e6b154b49b692780bf0adf749fd": {
      "model_module": "@jupyter-widgets/controls",
      "model_module_version": "2.0.0",
      "model_name": "HTMLStyleModel",
      "state": {
       "description_width": "",
       "font_size": null,
       "text_color": null
      }
     },
     "dd7c27d6553e4b6db7eab396c91e99fc": {
      "buffers": [
       {
        "data": "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",
        "encoding": "base64",
        "path": [
         "value",
         "Bezier_points",
         0
        ]
       },
       {
        "data": "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",
        "encoding": "base64",
        "path": [
         "value",
         "Bezier_points",
         1
        ]
       },
       {
        "data": "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",
        "encoding": "base64",
        "path": [
         "value",
         "Bezier_points",
         2
        ]
       },
       {
        "data": "zcxMPgAAAAAAAAAAAAAAAM3MzD4AAAAAAAAAAAAAAACamRk/AAAAAAAAAAAAAAAAzcxMPwAAAAAAAAAAAAAAAAAAgD8AAAAAAAAAAAAAAAAAAIA/zcxMPgAAAAAAAAAAAACAP83MzD4AAAAAAAAAAAAAgD+amRk/AAAAAAAAAAAAAIA/zcxMPwAAAAAAAAAAAACAPwAAgD8AAAAAAAAAAM3MTD8AAIA/AAAAAAAAAACamRk/AACAPwAAAAAAAAAAzczMPgAAgD8AAAAAAAAAAM3MTD4AAIA/AAAAAAAAAAAAAAAAAACAPwAAAAAAAAAAAAAAAM3MTD8AAAAAAAAAAAAAAACamRk/AAAAAAAAAAAAAAAAzczMPgAAAAAAAAAAAAAAAM3MTD4AAAAAAAAAAAAAAAAAAAAAAAAAAAAAAAA=",
        "encoding": "base64",
        "path": [
         "value",
         "edges",
         0
        ]
       },
       {
        "data": "zczMPQAAAAAAAAAAAAAAAJqZmT4AAAAAAAAAAAAAAAAAAAA/AAAAAAAAAAAAAAAAMzMzPwAAAAAAAAAAAAAAAGZmZj8AAAAAAAAAAAAAAAAAAIA/zczMPQAAAAAAAAAAAACAP5qZmT4AAAAAAAAAAAAAgD8AAAA/AAAAAAAAAAAAAIA/MzMzPwAAAAAAAAAAAACAP2ZmZj8AAAAAAAAAAGZmZj8AAIA/AAAAAAAAAAAzMzM/AACAPwAAAAAAAAAAAAAAPwAAgD8AAAAAAAAAAJqZmT4AAIA/AAAAAAAAAADNzMw9AACAPwAAAAAAAAAAAAAAAGZmZj8AAAAAAAAAAAAAAAAzMzM/AAAAAAAAAAAAAAAAAAAAPwAAAAAAAAAAAAAAAJqZmT4AAAAAAAAAAAAAAADNzMw9AAAAAAAAAAA=",
        "encoding": "base64",
        "path": [
         "value",
         "edges",
         1
        ]
       },
       {
        "data": "AAAAAAAAAAAAAAAAAAAAAM3MTD4AAAAAAAAAAAAAAADNzMw+AAAAAAAAAAAAAAAAmpkZPwAAAAAAAAAAAAAAAM3MTD8AAAAAAAAAAAAAAAAAAIA/AAAAAAAAAAAAAAAAAACAP83MTD4AAAAAAAAAAAAAgD/NzMw+AAAAAAAAAAAAAIA/mpkZPwAAAAAAAAAAAACAP83MTD8AAAAAAAAAAAAAgD8AAIA/AAAAAAAAAADNzEw/AACAPwAAAAAAAAAAmpkZPwAAgD8AAAAAAAAAAM3MzD4AAIA/AAAAAAAAAADNzEw+AACAPwAAAAAAAAAAAAAAAAAAgD8AAAAAAAAAAAAAAADNzEw/AAAAAAAAAAAAAAAAmpkZPwAAAAAAAAAAAAAAAM3MzD4AAAAAAAAAAAAAAADNzEw+AAAAAAAAAAA=",
        "encoding": "base64",
        "path": [
         "value",
         "edges",
         2
        ]
       },
       {
        "data": "AAAAAM3MTD4AAAAAAAAAACmOij6zRkc+AAAAAORh/T5I2Pk+eLw9PgAAAABEeRo/KY6KPrNGRz4AAAAA5GH9Pv2pNT8oNjg+AAAAAKEA+T5I2Pk+eLw9PgAAAABEeRo/zcxMPwAAAAAAAAAAAAAAAP2pNT8oNjg+AAAAAKEA+T5+fCs/cyQAPwAAAABjcmI/2klMPzwPtj4AAAAAiUcXPx0/9T5IBxY/AAAAAJDzdz9RLVU/tbALPwAAAACCbw0/2klMPzwPtj4AAAAAiUcXP73NVj9aAj4/AAAAAHac0z5RLVU/tbALPwAAAACCbw0/AACAP83MTD8AAAAAAAAAAJ5cMD/F/Vg/AAAAALLA4j4XSgU/1JZQPwAAAACxPRo/nlwwP8X9WD8AAAAAssDiPp3Uqz4Yxks/AAAAAJpJFD8XSgU/1JZQPwAAAACxPRo/zcxMPgAAgD8AAAAAAAAAAJ3Uqz4Yxks/AAAAAJpJFD8B7hs+CQFLPwAAAACWja0+xyArP7o7LD8AAAAAa9NHPwHuGz4JAUs/AAAAAJaNrT5UPi0+4qbJPgAAAAA8bQk/HT/1PkgHFj8AAAAAkPN3P1Q+LT7ipsk+AAAAADxtCT8AAAAAzcxMPgAAAAAAAAAAvc1WP1oCPj8AAAAAdpzTPr3NVj9aAj4/AAAAAHac0z5UPi0+4qbJPgAAAAA8bQk/jKkUPxbctj4AAAAAD/ZkP+sVwD7QbsU+AAAAALB1Yz/rFcA+0G7FPgAAAACwdWM/xyArP7o7LD8AAAAAa9NHP8cgKz+6Oyw/AAAAAGvTRz/9qTU/KDY4PgAAAAChAPk+jKkUPxbctj4AAAAAD/ZkP8IHgT6/gBc/AAAAAH19Oj8B7hs+CQFLPwAAAACWja0+HT/1PkgHFj8AAAAAkPN3P8cgKz+6Oyw/AAAAAGvTRz/CB4E+v4AXPwAAAAB9fTo/VD4tPuKmyT4AAAAAPG0JP8IHgT6/gBc/AAAAAH19Oj9+fCs/cyQAPwAAAABjcmI/jKkUPxbctj4AAAAAD/ZkP358Kz9zJAA/AAAAAGNyYj/rFcA+0G7FPgAAAACwdWM/wgeBPr+AFz8AAAAAfX06Pw==",
        "encoding": "base64",
        "path": [
         "value",
         "Bezier_trig_points",
         0
        ]
       },
       {
        "data": "AAAAAM3MzD0AAAAAAAAAAI/0cD6zRsc9AAAAAEJEhD6KUuM+eLy9PQAAAAAugLk+e62rPrNGxz0AAAAADvXBPsuhJz8oNrg9AAAAAFSXsj7fQgs/eLy9PQAAAADBHbs+ZmZmPwAAAAAAAAAAAAAAAGU7QT8oNrg9AAAAAFNbdz6iTis/FjAWPwAAAADwo2I/7SRmP9E6jj4AAAAADAWTPqbp/z4OTzM/AAAAAJ2mZD+olmo/GxfyPgAAAAC+eas+7SRmPwRuwT4AAAAAtXDGPt5maz/6zSs/AAAAABKtoT6olmo/J6USPwAAAAAd2aU+AACAP2ZmZj8AAAAAAAAAALWUPj/ifmw/AAAAAD3zUz7ZcQ8/aktoPwAAAAD45Lg+HPskP+J+bD8AAAAA0tWWPrVQvD4M42U/AAAAAKSuyD5+sOs+aktoPwAAAADir7s+zczMPQAAgD8AAAAAAAAAAIIdiT4M42U/AAAAAKvfkT4B7ps9hIBlPwAAAACV8B89bzUYP0dpPj8AAAAAjz9HPwHumz3r5ks/AAAAAM0sSD5UPq09C23+PgAAAABIibM+jaQHP1N18T4AAAAA4QSHP1Q+rT3XOcs+AAAAAIFWpj7NzMw9zczMPQAAAAC/aoQ+3mZrP5NnRT8AAAAAvldYPkXNUT8tAV8/AAAAAC1Epj5UPq09pAaYPgAAAAA9g34+2MoIPyndij4AAAAABitTPwpSpT4ViZQ+AAAAAKzCPz8Z99w+hiaSPgAAAAAH51o/DCdAPzf2Gz8AAAAAO25CP0L3QD8KHzU/AAAAADrSIT/+1Fo/e4FCPgAAAAAPabw+xCklP5V7iT4AAAAAc5U/Py9ulj5rozE/AAAAANWhQT8B7ps9UU0yPwAAAABotJw+3YnQPrDmMD8AAAAAWg5gP7O+LT+/nEI/AAAAALYOKT/CBwE+LI0YPwAAAABmD/g+Uy1hPh6llj4AAAAAIbwfP+ymVz4wVPw+AAAAAKNwMj8s4zs/ESzbPgAAAABjwUo/s3kwP6l1tj4AAAAAb0NUP+dUQD+U6gU/AAAAAL/qRT+CtPQ+cyW+PgAAAAB2/ng/1o6gPic4+j4AAAAAk5dpPw==",
        "encoding": "base64",
        "path": [
         "value",
         "Bezier_trig_points",
         1
        ]
       },
       {
        "data": "AAAAAAAAAAAAAAAAAAAAAM3MTD4AAAAAAAAAAAAAAADNzMw+AAAAAAAAAAAAAAAAzczMPgAAAAAAAAAAAAAAAJqZGT8AAAAAAAAAAAAAAACamRk/AAAAAAAAAAAAAAAAAACAPwAAAAAAAAAAAAAAAM3MTD8AAAAAAAAAAAAAAADHICs/ujssPwAAAABr00c/AACAP83MTD4AAAAAAAAAABdKBT/UllA/AAAAALE9Gj8AAIA/zczMPgAAAAAAAAAAAACAP83MzD4AAAAAAAAAAAAAgD+amRk/AAAAAAAAAAAAAIA/mpkZPwAAAAAAAAAAAACAPwAAgD8AAAAAAAAAAM3MTD8AAIA/AAAAAAAAAACamRk/AACAPwAAAAAAAAAAmpkZPwAAgD8AAAAAAAAAAM3MzD4AAIA/AAAAAAAAAADNzMw+AACAPwAAAAAAAAAAAAAAAAAAgD8AAAAAAAAAAM3MTD4AAIA/AAAAAAAAAAAAAAAAAACAPwAAAAAAAAAAF0oFP9SWUD8AAAAAsT0aPwAAAADNzEw/AAAAAAAAAAAAAAAAmpkZPwAAAAAAAAAAjKkUPxbctj4AAAAAD/ZkPwAAAADNzMw+AAAAAAAAAADNzEw+AAAAAAAAAAAAAAAAAACAP83MTD8AAAAAAAAAAM3MTD8AAIA/AAAAAAAAAAAAAAAAzcxMPgAAAAAAAAAASNj5Pni8PT4AAAAARHkaPymOij6zRkc+AAAAAORh/T5I2Pk+eLw9PgAAAABEeRo/US1VP7WwCz8AAAAAgm8NP73NVj9aAj4/AAAAAHac0z4AAIA/zcxMPgAAAAAAAAAA/ak1Pyg2OD4AAAAAoQD5Pp3Uqz4Yxks/AAAAAJpJFD8AAAAAmpkZPwAAAAAAAAAAndSrPhjGSz8AAAAAmkkUP55cMD/F/Vg/AAAAALLA4j4AAAAAmpkZPwAAAAAAAAAAKY6KPrNGRz4AAAAA5GH9PlQ+LT7ipsk+AAAAADxtCT/aSUw/PA+2PgAAAACJRxc/2klMPzwPtj4AAAAAiUcXP1EtVT+1sAs/AAAAAIJvDT+MqRQ/Fty2PgAAAAAP9mQ/6xXAPtBuxT4AAAAAsHVjPw==",
        "encoding": "base64",
        "path": [
         "value",
         "Bezier_trig_points",
         2
        ]
       },
       {
        "data": "zczMPc3MzD0AAAAAv2qEPnutqz6zRsc9AAAAAA71wT7fQgs/eLy9PQAAAADBHbs+ODPCPpWBQj4AAAAA8DEcP2U7QT8oNrg9AAAAAFNbdz4QSxk/UPk6PgAAAAABQxo/ZmZmP83MzD0AAAAADGmEPv7UWj97gUI+AAAAAA9pvD4GDhM/3RULPwAAAAC114E/7SRmPwRuwT4AAAAAtXDGPt2J0D6w5jA/AAAAAFoOYD+olmo/J6USPwAAAAAd2aU+lrtQP1K45j4AAAAAk/ceP95maz+TZ0U/AAAAAL5XWD6H/VU/h9kkPwAAAADXCQY/ZmZmP2ZmZj8AAAAAZ2mEPhz7JD/ifmw/AAAAANLVlj5+sOs+aktoPwAAAADir7s+W9MaP0zKVD8AAAAA8+gMP4IdiT4M42U/AAAAAKvfkT5mNNs+di5OPwAAAACGHSM/Z100PoSAZT8AAAAANuCFPp3LeT6QY0s/AAAAAM8tAT8B7ps96+ZLPwAAAADNLEg+K+ASP4EhIT8AAAAAWmlzPwHumz1RTTI/AAAAAGi0nD5UPq091znLPgAAAACBVqY+Bg4TP90VCz8AAAAAtdeBP1Q+rT2kBpg+AAAAAD2Dfj4pjgo+wAlKPgAAAAAz9rA+Rc1RPy0BXz8AAAAALUSmPi2VQz8PgEs/AAAAACMtAz9TLWE+HqWWPgAAAAAhvB8/xCklP5V7iT4AAAAAc5U/Pxn33D6GJpI+AAAAAAfnWj+CtPQ+cyW+PgAAAAB2/ng/QvdAPwofNT8AAAAAOtIhP7O+LT+/nEI/AAAAALYOKT/r+UA/KBWJPgAAAABsJiA/s3kwP6l1tj4AAAAAb0NUP8L+Tj7kQDE/AAAAAGS+ED/C/k4+5EAxPwAAAABkvhA/byO7PgPEFj8AAAAA3rxyP281GD9HaT4/AAAAAI8/Rz/splc+MFT8PgAAAACjcDI/i1qLPtmKxz4AAAAANopLP9aOoD4nOPo+AAAAAJOXaT/nVEA/lOoFPwAAAAC/6kU/BRMgP36S2z4AAAAAzGtyP6JOKz8WMBY/AAAAAPCjYj+Eqto+sL74PgAAAACEfYM/byO7PgPEFj8AAAAA3rxyPw==",
        "encoding": "base64",
        "path": [
         "value",
         "Bezier_trig_points",
         3
        ]
       },
       {
        "data": "zczMPQAAAAAAAAAAAAAAAJqZmT4AAAAAAAAAAAAAAAAAAAA/AAAAAAAAAAAAAAAAilLjPni8vT0AAAAALoC5PjMzMz8AAAAAAAAAAAAAAADLoSc/KDa4PQAAAABUl7I+AACAP83MzD0AAAAAAAAAAGZmZj/NzMw9AAAAAAxphD4r4BI/gSEhPwAAAABaaXM/AACAP5qZmT4AAAAAAAAAAGY02z52Lk4/AAAAAIYdIz8AAIA/AAAAPwAAAAAAAAAAqJZqPxsX8j4AAAAAvnmrPgAAgD8zMzM/AAAAAAAAAADeZms/+s0rPwAAAAASraE+ZmZmPwAAgD8AAAAAAAAAADMzMz8AAIA/AAAAAAAAAAAAAAA/AACAPwAAAAAAAAAA2XEPP2pLaD8AAAAA+OS4PpqZmT4AAIA/AAAAAAAAAAC1ULw+DONlPwAAAACkrsg+Ae6bPYSAZT8AAAAAlfAfPWddND6EgGU/AAAAADbghT4AAAAAZmZmPwAAAAAAAAAApun/Pg5PMz8AAAAAnaZkPwAAAAAzMzM/AAAAAAAAAAAAAAAAAAAAPwAAAAAAAAAABRMgP36S2z4AAAAAzGtyPwAAAACamZk+AAAAAAAAAACP9HA+s0bHPQAAAABCRIQ+ZmZmP2ZmZj8AAAAAZ2mEPrWUPj/ifmw/AAAAAD3zUz4pjgo+wAlKPgAAAAAz9rA+EEsZP1D5Oj4AAAAAAUMaPzgzwj6VgUI+AAAAAPAxHD/Yygg/Kd2KPgAAAAAGK1M/h/1VP4fZJD8AAAAA1wkGPy2VQz8PgEs/AAAAACMtAz/tJGY/0TqOPgAAAAAMBZM+6/lAPygViT4AAAAAbCYgP53LeT6QY0s/AAAAAM8tAT/CBwE+LI0YPwAAAABmD/g+L26WPmujMT8AAAAA1aFBP1vTGj9MylQ/AAAAAPPoDD9UPq09C23+PgAAAABIibM+ClKlPhWJlD4AAAAArMI/P4taiz7Zisc+AAAAADaKSz+Wu1A/UrjmPgAAAACT9x4/LOM7PxEs2z4AAAAAY8FKPwwnQD839hs/AAAAADtuQj+NpAc/U3XxPgAAAADhBIc/hKraPrC++D4AAAAAhH2DPw==",
        "encoding": "base64",
        "path": [
         "value",
         "Bezier_trig_points",
         4
        ]
       },
       {
        "data": "zcxMPgAAAAAAAAAAAAAAAM3MzD4AAAAAAAAAAAAAAACamRk/AAAAAAAAAAAAAAAASNj5Pni8PT4AAAAARHkaP83MTD8AAAAAAAAAAAAAAAD9qTU/KDY4PgAAAAChAPk+AACAP83MTD4AAAAAAAAAAAAAgD/NzEw+AAAAAAAAAAAdP/U+SAcWPwAAAACQ83c/AACAP83MzD4AAAAAAAAAAJ3Uqz4Yxks/AAAAAJpJFD8AAIA/mpkZPwAAAAAAAAAAUS1VP7WwCz8AAAAAgm8NPwAAgD/NzEw/AAAAAAAAAAC9zVY/WgI+PwAAAAB2nNM+zcxMPwAAgD8AAAAAAAAAAJqZGT8AAIA/AAAAAAAAAADNzMw+AACAPwAAAAAAAAAAF0oFP9SWUD8AAAAAsT0aP83MTD4AAIA/AAAAAAAAAACd1Ks+GMZLPwAAAACaSRQ/Ae4bPgkBSz8AAAAAlo2tPgHuGz4JAUs/AAAAAJaNrT4AAAAAzcxMPwAAAAAAAAAAHT/1PkgHFj8AAAAAkPN3PwAAAACamRk/AAAAAAAAAAAAAAAAzczMPgAAAAAAAAAAfnwrP3MkAD8AAAAAY3JiPwAAAADNzEw+AAAAAAAAAAApjoo+s0ZHPgAAAADkYf0+zcxMPwAAgD8AAAAAAAAAAJ5cMD/F/Vg/AAAAALLA4j4pjoo+s0ZHPgAAAADkYf0+/ak1Pyg2OD4AAAAAoQD5PkjY+T54vD0+AAAAAER5Gj+MqRQ/Fty2PgAAAAAP9mQ/vc1WP1oCPj8AAAAAdpzTPp5cMD/F/Vg/AAAAALLA4j7aSUw/PA+2PgAAAACJRxc/2klMPzwPtj4AAAAAiUcXPwHuGz4JAUs/AAAAAJaNrT7CB4E+v4AXPwAAAAB9fTo/wgeBPr+AFz8AAAAAfX06PxdKBT/UllA/AAAAALE9Gj9UPi0+4qbJPgAAAAA8bQk/6xXAPtBuxT4AAAAAsHVjP+sVwD7QbsU+AAAAALB1Yz9RLVU/tbALPwAAAACCbw0/fnwrP3MkAD8AAAAAY3JiP8cgKz+6Oyw/AAAAAGvTRz8dP/U+SAcWPwAAAACQ83c/HT/1PkgHFj8AAAAAkPN3Pw==",
        "encoding": "base64",
        "path": [
         "value",
         "Bezier_trig_points",
         5
        ]
       }
      ],
      "model_module": "webgui_jupyter_widgets",
      "model_module_version": "0.2.24",
      "model_name": "WebguiModel",
      "state": {
       "layout": "IPY_MODEL_38aed836929c4d7f9e75a233843af906",
       "value": {
        "Bezier_points": [
         {},
         {},
         {}
        ],
        "Bezier_trig_points": [
         {},
         {},
         {},
         {},
         {},
         {}
        ],
        "autoscale": true,
        "deformation": false,
        "draw_surf": true,
        "draw_vol": false,
        "edges": [
         {},
         {},
         {}
        ],
        "funcdim": 1,
        "funcmax": 0.9931531496228501,
        "funcmin": 0,
        "gui_settings": {},
        "mesh_center": [
         0.5,
         0.5,
         1.1125369292536007e-308
        ],
        "mesh_dim": 2,
        "mesh_radius": 0.7071067811865476,
        "ngsolve_version": "6.2.2302-64-g62a6de69a",
        "objects": [],
        "order2d": 2,
        "order3d": 2,
        "show_mesh": true,
        "show_wireframe": true
       }
      }
     },
     "ee768e8860b84d6f92e6f03f49dbf4cc": {
      "model_module": "@jupyter-widgets/base",
      "model_module_version": "2.0.0",
      "model_name": "LayoutModel",
      "state": {}
     }
    },
    "version_major": 2,
    "version_minor": 0
   }
  }
 },
 "nbformat": 4,
 "nbformat_minor": 5
}
