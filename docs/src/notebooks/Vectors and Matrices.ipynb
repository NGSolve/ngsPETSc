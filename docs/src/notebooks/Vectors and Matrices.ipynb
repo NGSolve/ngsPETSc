{
 "cells": [
  {
   "cell_type": "markdown",
   "id": "64c7e4ff",
   "metadata": {},
   "source": [
    "## PETSc Vec and PETSc Mat\n",
    "This tutorial will be focused on how to use the PETSc `KSP` class to solve the linear systems that are obtained from a finite element discretization of a partial differential equation (PDE).\n",
    "In particular, we will show how to use the `VectorMapping` class to map PETSc `Vec` to NGSolve vectors and vice versa and the `Matrix` class to create a PETSc `Mat` from an NGSolve `BilinearForm`.\n",
    "\n",
    "We begin initializing the cluster to the test parallel implementation in a Jupyter notebook, to do this you need also to start the ipycluster demon, i.e. `ipcluster start –engines=MPI -n 4`."
   ]
  },
  {
   "cell_type": "markdown",
   "id": "4ba8f95c",
   "metadata": {},
   "source": [
    "Let's test if the cluster has by initialized correctly by checking the size of the `COMM_WORLD`."
   ]
  },
  {
   "cell_type": "code",
   "execution_count": 1,
   "id": "e1fe36f9",
   "metadata": {},
   "outputs": [
    {
     "name": "stdout",
     "output_type": "stream",
     "text": [
      "Starting 1 engines with <class 'ipyparallel.cluster.launcher.LocalEngineSetLauncher'>\n"
     ]
    },
    {
     "data": {
      "application/vnd.jupyter.widget-view+json": {
       "model_id": "e7ee0b56397049a6ae14d8d57c1eaddf",
       "version_major": 2,
       "version_minor": 0
      },
      "text/plain": [
       "  0%|          | 0/1 [00:00<?, ?engine/s]"
      ]
     },
     "metadata": {},
     "output_type": "display_data"
    }
   ],
   "source": [
    "from ipyparallel import Cluster\n",
    "c = await Cluster().start_and_connect(n=1, activate=True)"
   ]
  },
  {
   "cell_type": "code",
   "execution_count": 2,
   "id": "fb5986a3",
   "metadata": {},
   "outputs": [
    {
     "data": {
      "text/plain": [
       "\u001b[0;31mOut[0:1]: \u001b[0m1"
      ]
     },
     "metadata": {
      "after": null,
      "completed": null,
      "data": {},
      "engine_id": 0,
      "engine_uuid": "42c85348-333f4229d0420927fe891f7e",
      "error": null,
      "execute_input": "from mpi4py.MPI import COMM_WORLD\nCOMM_WORLD.Get_size()\n",
      "execute_result": {
       "data": {
        "text/plain": "1"
       },
       "execution_count": 1,
       "metadata": {}
      },
      "follow": null,
      "msg_id": null,
      "outputs": [],
      "received": null,
      "started": null,
      "status": null,
      "stderr": "",
      "stdout": "",
      "submitted": "2023-07-08T06:39:17.842550Z"
     },
     "output_type": "display_data"
    }
   ],
   "source": [
    "%%px\n",
    "from mpi4py.MPI import COMM_WORLD\n",
    "COMM_WORLD.Get_size()"
   ]
  },
  {
   "cell_type": "markdown",
   "id": "77b29016",
   "metadata": {},
   "source": [
    "\n",
    "First we need to construct the distributed mesh that will be used to define the finite element space that will be used to discretize the PDE here considered."
   ]
  },
  {
   "cell_type": "code",
   "execution_count": 3,
   "id": "1fd6d26b",
   "metadata": {},
   "outputs": [],
   "source": [
    "%%px\n",
    "from ngsolve import Mesh\n",
    "from netgen.geom2d import unit_square\n",
    "\n",
    "if COMM_WORLD.rank == 0:\n",
    "    mesh = Mesh(unit_square.GenerateMesh(maxh=0.2).Distribute(COMM_WORLD))\n",
    "else:\n",
    "    mesh = Mesh(ngm.Mesh.Receive(COMM_WORLD))"
   ]
  },
  {
   "cell_type": "markdown",
   "id": "f6aec789",
   "metadata": {},
   "source": [
    "We now proceed constructing a linear polynomial finite element space, with $H^1$ conformity, and discretize the mass matrix that represent the $L^2$ solar product in the discrete context. We create a mass matrix to initialize a NGSolve vector corresponding a `GridFunction` defined on the finite element space here considered."
   ]
  },
  {
   "cell_type": "code",
   "execution_count": 4,
   "id": "76c2e681",
   "metadata": {},
   "outputs": [],
   "source": [
    "%%px\n",
    "from ngsolve import H1, BilinearForm, dx\n",
    "fes = H1(mesh, order=1, dirichlet=\"left|right|top|bottom\")\n",
    "u,v = fes.TnT()\n",
    "m = BilinearForm(u*v*dx).Assemble()\n",
    "M = m.mat\n",
    "ngsVec = M.CreateColVector()"
   ]
  },
  {
   "cell_type": "markdown",
   "id": "82eb57ee",
   "metadata": {},
   "source": [
    "We are now ready to create a `VectorMapping` that we will first use to construct PETSc `Vec` corresponding to the `ngsVec` just initialized.\n",
    "The only information that the `VectorMapping` class needs is the finite element space corresponding to the vector associated to the `GridFunction` we aim to map, this because the NGSolve `FESpace` class contains information about the way the degrees of freedom are distributed and which degrees of freedom are not constrained by the bodunary conditions"
   ]
  },
  {
   "cell_type": "code",
   "execution_count": 5,
   "id": "6d69d42a",
   "metadata": {},
   "outputs": [
    {
     "data": {
      "text/plain": [
       "[stdout:0] Vector type is seq and it has size 37.\n"
      ]
     },
     "metadata": {},
     "output_type": "display_data"
    }
   ],
   "source": [
    "%%px\n",
    "from ngsPETSc import VectorMapping\n",
    "Map = VectorMapping(fes)\n",
    "petscVec = Map.petscVec(ngsVec)\n",
    "print(\"Vector type is {} and it has size {}.\".format(petscVec.type,petscVec.size))"
   ]
  },
  {
   "cell_type": "markdown",
   "id": "e5d77e20",
   "metadata": {},
   "source": [
    "We now use the `Matrix` class to create a PETSc `Mat` from a NGSolve `BilinearForm`. Once the `Matrix` class has been set up, it is possible to access the corresponding PETSc `Mat` object as `Matrix().mat`. By default, if the communicator world is larger than one `mat` is initialized as a PETSc `mpiaij` which is the default sparse parallel matrix in PETSc, while if the communicator world is one than `mat` is initialized as a PETSc `seqaij` which is the default serial matrix in PETSc. We can also spy inside the matrix using the `Matrix().view()` method."
   ]
  },
  {
   "cell_type": "code",
   "execution_count": 6,
   "id": "d56f051a",
   "metadata": {},
   "outputs": [
    {
     "data": {
      "text/plain": [
       "[stdout:0] Matrix type is seqaij and it has size (17, 17).\n",
       "Mat Object: 1 MPI process\n",
       "  type: seqaij\n",
       "row 0: (0, 0.0224274)  (1, 0.00348275)  (10, 0.00389906)  (12, 0.00344571) \n",
       "row 1: (0, 0.00348275)  (1, 0.0198054)  (2, 0.00329403)  (11, 0.00318985)  (12, 0.00335232) \n",
       "row 2: (1, 0.00329403)  (2, 0.0213869)  (3, 0.00364805)  (11, 0.00320442) \n",
       "row 3: (2, 0.00364805)  (3, 0.0187914)  (4, 0.00276012)  (11, 0.0029006)  (15, 0.00252874) \n",
       "row 4: (3, 0.00276012)  (4, 0.0161198)  (5, 0.00273449)  (13, 0.0025502)  (15, 0.00239586) \n",
       "row 5: (4, 0.00273449)  (5, 0.0170459)  (6, 0.00262495)  (13, 0.00256258) \n",
       "row 6: (5, 0.00262495)  (6, 0.0125646)  (7, 0.00238756)  (13, 0.00238142) \n",
       "row 7: (6, 0.00238756)  (7, 0.0176799)  (8, 0.00325374)  (13, 0.00285307)  (16, 0.00338652) \n",
       "row 8: (7, 0.00325374)  (8, 0.0200592)  (9, 0.00312461)  (14, 0.00350041)  (16, 0.00368234) \n",
       "row 9: (8, 0.00312461)  (9, 0.0189321)  (14, 0.00362765) \n",
       "row 10: (0, 0.00389906)  (10, 0.0211063)  (12, 0.00340267)  (14, 0.00383436) \n",
       "row 11: (1, 0.00318985)  (2, 0.00320442)  (3, 0.0029006)  (11, 0.0187766)  (12, 0.0034216)  (15, 0.0027623)  (16, 0.00329787) \n",
       "row 12: (0, 0.00344571)  (1, 0.00335232)  (10, 0.00340267)  (11, 0.0034216)  (12, 0.0210307)  (14, 0.00364803)  (16, 0.00376036) \n",
       "row 13: (4, 0.0025502)  (5, 0.00256258)  (6, 0.00238142)  (7, 0.00285307)  (13, 0.0159034)  (15, 0.00253607)  (16, 0.0030201) \n",
       "row 14: (8, 0.00350041)  (9, 0.00362765)  (10, 0.00383436)  (12, 0.00364803)  (14, 0.0226675)  (16, 0.00387176) \n",
       "row 15: (3, 0.00252874)  (4, 0.00239586)  (11, 0.0027623)  (13, 0.00253607)  (15, 0.0130458)  (16, 0.00282287) \n",
       "row 16: (7, 0.00338652)  (8, 0.00368234)  (11, 0.00329787)  (12, 0.00376036)  (13, 0.0030201)  (14, 0.00387176)  (15, 0.00282287)  (16, 0.0238418) \n"
      ]
     },
     "metadata": {},
     "output_type": "display_data"
    }
   ],
   "source": [
    "%%px\n",
    "from ngsPETSc import Matrix\n",
    "M = Matrix(m.mat, fes.FreeDofs())\n",
    "print(\"Matrix type is {} and it has size {}.\".format(M.mat.type,M.mat.size))\n",
    "M.view()"
   ]
  },
  {
   "cell_type": "markdown",
   "id": "70212e7a",
   "metadata": {},
   "source": [
    "There are other matrices format that are wrapped some of which are device dependent, to mention a few:\n",
    "- `dense`, store and operate on the matrix in dense format,\n",
    "- `cusparse`, store and operate on the matrix on NVIDIA GPU device in CUDA sparse format,\n",
    "- `aijmkl`, store and operate on the matrix in Intel MKL format."
   ]
  },
  {
   "cell_type": "code",
   "execution_count": 7,
   "id": "d8e54790",
   "metadata": {},
   "outputs": [],
   "source": [
    "%%px\n",
    "M = Matrix(m.mat, fes.FreeDofs(), matType=\"dense\")"
   ]
  },
  {
   "cell_type": "markdown",
   "id": "a351d8bc",
   "metadata": {},
   "source": [
    "### Example (Precondition Inverse Iteration)\n",
    "We here implement the Precondition INVerse ITeration (PINVIT) developed by Knyazef and Neymeyr, more detail [here](https://doi.org/10.1016/S0024-3795(00)00239-1), using PETSc. In particular, we will use the PINVIT scheme to compute the eigenvalue of the Laplacian, i.e. we are looking for $\\lambda\\in \\mathbb{R}$ such that it exits $u\\in H^1_0(\\Omega)$ that verifies following equation for any $v\\in H^1_0(\\Omega)$\n",
    "$$\\int_\\Omega \\nabla u \\cdot \\nabla v \\; d\\vec{x} = \\lambda \\int_\\Omega uv\\;d\\vec{x}$$\n",
    "We solve this specific problem by looking for the eigenvalue of the generalised eigenproblem $A\\vec{u}_h = \\lambda M\\vec{u}_h$ where $A$ and $M$ are the finite element discretisation respectively of the stifness matrix corresponding to the Laplacian and the mass matrix corresponding to the $L^2$ inner prodcut. We begin constructin the finite element discretisation for $A$ and $M$."
   ]
  },
  {
   "cell_type": "code",
   "execution_count": 8,
   "id": "0169fe9b",
   "metadata": {},
   "outputs": [],
   "source": [
    "%%px\n",
    "from ngsolve import grad, Preconditioner, GridFunction\n",
    "a = BilinearForm(fes)\n",
    "a += grad(u)*grad(v)*dx\n",
    "pre = Preconditioner(a, \"multigrid\")\n",
    "a.Assemble()\n",
    "u = GridFunction(fes)"
   ]
  },
  {
   "cell_type": "markdown",
   "id": "bf32bdf1",
   "metadata": {},
   "source": [
    "The heart of the PINVIT scheme there is an iteration similar idea to the Rayleigh quotient iteration for a generalised eigenvalue problem, more detail can be found in Nick Trefethen's [Numerical Linear Algebra](https://doi.org/10.1137/1.9780898719574), Lecture 27:\n",
    "$$\\vec{u}_h^{(n+1)} = \\omega_1^{(n)}\\vec{u}_{h}^{(n)}+\\omega_2^{(n)} \\vec{\\omega}_h^{(n)}, \\qquad \\vec{\\omega}_h^{(n)}= P^{-1}(A\\vec{u}_h^{(n)}-\\rho_n M\\vec{u}_h^{(n)}),$$\n",
    "where $P^{-1}$ is an approximate inverse of the stifness matrix $A$ and $\\rho_n$ is the Rayleigh quotient corresponding to $\\vec{u}_h^{(n)}$, i.e.\n",
    "$$\\rho_{n} = \\frac{(\\vec{u}_h^{(n)}, A \\vec{u}_h^{(n)})}{(\\vec{u}_h^{(n)}, M\\vec{u}_h^{(n)})}.$$\n",
    "Instrumental in order to obtain a converged PINVIT scheme is our choice of $\\alpha_n$, but we will postpone this discuss and first implement the previous itration for a fixed choice of $\\omega_i^{(n)}$."
   ]
  },
  {
   "cell_type": "code",
   "execution_count": 9,
   "id": "63942b8e",
   "metadata": {},
   "outputs": [],
   "source": [
    "%%px\n",
    "def stepChoice(Asc,Msc,w,u0):\n",
    "    return (0.5,0.5)"
   ]
  },
  {
   "cell_type": "markdown",
   "id": "f2eec9ba",
   "metadata": {},
   "source": [
    "We begin constructing a PETSc `Mat` object corresponding to $A$ and $M$ using the ngsPETSc `Metrix` class. We then construct a `VectorMapping` to object to convert NGSolve `GridFunction` to PETSc `Vec`.\n"
   ]
  },
  {
   "cell_type": "code",
   "execution_count": 10,
   "id": "32284815",
   "metadata": {},
   "outputs": [],
   "source": [
    "%%px\n",
    "A = Matrix(a.mat, fes.FreeDofs())\n",
    "M = Matrix(m.mat, fes.FreeDofs())\n",
    "Map = VectorMapping(fes)"
   ]
  },
  {
   "cell_type": "markdown",
   "id": "84e80ab2",
   "metadata": {},
   "source": [
    "We then construct a PETSc `PC` object used to create an approximate inverse of $A$, in particular we will be interested in using a preconditioner build using HYPRE."
   ]
  },
  {
   "cell_type": "code",
   "execution_count": 11,
   "id": "9c986ad8",
   "metadata": {},
   "outputs": [],
   "source": [
    "%%px\n",
    "from petsc4py import PETSc\n",
    "pc = PETSc.PC()\n",
    "pc.create(PETSc.COMM_WORLD)\n",
    "pc.setOperators(A.mat)\n",
    "pc.setType(PETSc.PC.Type.HYPRE)\n",
    "pc.setUp()"
   ]
  },
  {
   "cell_type": "markdown",
   "id": "a926d788",
   "metadata": {},
   "source": [
    "We now implement the iteration itself, starting from a PETSc `Vec` that we create from a PETSc `Mat` to be sure it has the correct size, and that we then set to have random entries."
   ]
  },
  {
   "cell_type": "code",
   "execution_count": 12,
   "id": "42fd2709",
   "metadata": {},
   "outputs": [
    {
     "data": {
      "text/plain": [
       "[stdout:0] [0] Eigenvalue estimate: 6.438964160408917\n",
       "[1] Eigenvalue estimate: 3.343928625687638\n",
       "[2] Eigenvalue estimate: 2.641648954164419\n",
       "[3] Eigenvalue estimate: 2.3821542621098084\n",
       "[4] Eigenvalue estimate: 2.2665070692423788\n",
       "[5] Eigenvalue estimate: 2.210409247274843\n",
       "[6] Eigenvalue estimate: 2.1819357667646018\n",
       "[7] Eigenvalue estimate: 2.167055475874936\n",
       "[8] Eigenvalue estimate: 2.15909469308555\n",
       "[9] Eigenvalue estimate: 2.1547369780738275\n"
      ]
     },
     "metadata": {},
     "output_type": "display_data"
    }
   ],
   "source": [
    "%%px\n",
    "from math import pi\n",
    "itMax = 10\n",
    "u0 = A.mat.createVecLeft()\n",
    "w = A.mat.createVecLeft()\n",
    "u0.setRandom()\n",
    "for it in range(itMax):\n",
    "        Au0 = u0.duplicate(); A.mat.mult(u0,Au0)\n",
    "        Mu0 = u0.duplicate(); M.mat.mult(u0,Mu0)\n",
    "        rho = Au0.dot(u0)/Mu0.dot(u0)\n",
    "        print(\"[{}] Eigenvalue estimate: {}\".format(it,rho/(pi**2)))\n",
    "        u = Au0+rho*Mu0\n",
    "        pc.apply(u,w)\n",
    "        alpha = stepChoice(A.mat,M.mat,w,u0)\n",
    "        u0 = alpha[0]*u0+alpha[1]*w"
   ]
  },
  {
   "cell_type": "markdown",
   "id": "0c5f886d",
   "metadata": {},
   "source": [
    "We now need to discuss how to choose the step size $\\omega_i$ and we do this by solving the optimization problem,\n",
    "$$\\vec{u}_h^{(n+1)} = \\underset{\\vec{v}\\in <\\vec{u}_h^{n},\\, \\vec{\\omega}_h^{(n)}>}{arg\\;min} \\frac{(\\vec{u}_h^{(n+1)}, A \\vec{u}_h^{(n+1)})}{(\\vec{u}_h^{(n+1)}, M\\vec{u}_h^{(n+1)})}$$\n",
    "and we do solving a small generalised eigenvalue problem, i.e.\n",
    "$$\\begin{bmatrix}\n",
    "\\vec{u}_h^{(n)}\\cdot A \\vec{u}_h^{(n)} & \\vec{u_h}^{(n)}\\cdot A \\vec{\\omega}_h^{(n)}\\\\\n",
    "\\vec{\\omega}_h^{(n)}\\cdot A \\vec{u}_h^{(n)} & \\vec{\\omega}_h^{(n)}\\cdot A \\vec{\\omega}_h^{(n)}\n",
    "\\end{bmatrix} = \\omega \\begin{bmatrix}\n",
    "\\vec{u}_h^{(n)}\\cdot M \\vec{u}_h^{(n)} & \\vec{u_h}^{(n)}\\cdot M \\vec{\\omega}_h^{(n)}\\\\\n",
    "\\vec{\\omega}_h^{(n)}\\cdot M \\vec{u}_h^{(n)} & \\vec{\\omega}_h^{(n)}\\cdot M \\vec{\\omega}_h^{(n)}\n",
    "\\end{bmatrix}.$$"
   ]
  },
  {
   "cell_type": "code",
   "execution_count": 13,
   "id": "d25dde39",
   "metadata": {},
   "outputs": [
    {
     "data": {
      "text/plain": [
       "[stdout:0] [0] Eigenvalue estimate: 6.438964160408917\n",
       "[1] Eigenvalue estimate: 2.182148561544114\n",
       "[2] Eigenvalue estimate: 2.1494909780380205\n",
       "[3] Eigenvalue estimate: 2.148207487071055\n",
       "[4] Eigenvalue estimate: 2.1481654601579416\n",
       "[5] Eigenvalue estimate: 2.1481654570280586\n",
       "[6] Eigenvalue estimate: 2.148165457028058\n",
       "[7] Eigenvalue estimate: 2.1481654570280573\n",
       "[8] Eigenvalue estimate: 2.1481654570280577\n",
       "[9] Eigenvalue estimate: 2.1481654570280577\n"
      ]
     },
     "metadata": {},
     "output_type": "display_data"
    }
   ],
   "source": [
    "%%px\n",
    "import numpy as np\n",
    "from scipy.linalg import eigh\n",
    "def stepChoice(Asc,Msc,w,u0):\n",
    "    Au0 = u0.duplicate(); Asc.mult(u0,Au0)\n",
    "    Mu0 = u0.duplicate(); Msc.mult(u0,Mu0)\n",
    "    Aw = w.duplicate(); Asc.mult(w,Aw)\n",
    "    Mw = w.duplicate(); Msc.mult(w,Mw)\n",
    "    smallA = np.array([[u0.dot(Au0),u0.dot(Aw)],[w.dot(Au0),w.dot(Aw)]])\n",
    "    smallM = np.array([[u0.dot(Mu0),u0.dot(Mw)],[w.dot(Mu0),w.dot(Mw)]])\n",
    "    _, evec = eigh(a=smallA, b=smallM)\n",
    "    return (float(evec[0,0]),float(evec[1,0]))\n",
    "\n",
    "itMax = 10\n",
    "u0 = A.mat.createVecLeft()\n",
    "w = A.mat.createVecLeft()\n",
    "u0.setRandom()\n",
    "for it in range(itMax):\n",
    "        Au0 = u0.duplicate(); A.mat.mult(u0,Au0)\n",
    "        Mu0 = u0.duplicate(); M.mat.mult(u0,Mu0)\n",
    "        rho = Au0.dot(u0)/Mu0.dot(u0)\n",
    "        print(\"[{}] Eigenvalue estimate: {}\".format(it,rho/(pi**2)))\n",
    "        u = Au0+rho*Mu0\n",
    "        pc.apply(u,w)\n",
    "        alpha = stepChoice(A.mat,M.mat,w,u0)\n",
    "        u0 = alpha[0]*u0+alpha[1]*w"
   ]
  }
 ],
 "metadata": {
  "kernelspec": {
   "display_name": "NGS",
   "language": "python",
   "name": "python3"
  },
  "language_info": {
   "codemirror_mode": {
    "name": "ipython",
    "version": 3
   },
   "file_extension": ".py",
   "mimetype": "text/x-python",
   "name": "python",
   "nbconvert_exporter": "python",
   "pygments_lexer": "ipython3",
   "version": "3.10.6"
  }
 },
 "nbformat": 4,
 "nbformat_minor": 5
}
