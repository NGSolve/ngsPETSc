{
 "cells": [
  {
   "cell_type": "markdown",
   "id": "64c7e4ff",
   "metadata": {},
   "source": [
    "## PETSc DMPlex\n",
    "In this tutorial we will have an in-depth look in to the way we transform NGSolve/Netgen `Mesh` to a PETSc DMPlex. In particular we will show to create a PETSc `DMPlex` from an NGSolve/Netgen and vice-versa, using the `MeshMapping` class. We will also show how to use PETSc `DMPlexTransform` to construct purely quad mesh and Alfeld split mesh. "
   ]
  },
  {
   "cell_type": "markdown",
   "id": "4ba8f95c",
   "metadata": {},
   "source": [
    "Let's test if the cluster has by initialized correctly by checking the size of the `COMM_WORLD`, unfortunately the `MeshMapping` class only works in serial at the moment, but we are looking into how to make it work in parallel."
   ]
  },
  {
   "cell_type": "code",
   "execution_count": 1,
   "id": "e1fe36f9",
   "metadata": {},
   "outputs": [
    {
     "name": "stdout",
     "output_type": "stream",
     "text": [
      "Starting 1 engines with <class 'ipyparallel.cluster.launcher.LocalEngineSetLauncher'>\n"
     ]
    },
    {
     "data": {
      "application/vnd.jupyter.widget-view+json": {
       "model_id": "298c796bcda840d8b678eb9f72e40f61",
       "version_major": 2,
       "version_minor": 0
      },
      "text/plain": [
       "  0%|          | 0/1 [00:00<?, ?engine/s]"
      ]
     },
     "metadata": {},
     "output_type": "display_data"
    }
   ],
   "source": [
    "from ipyparallel import Cluster\n",
    "c = await Cluster().start_and_connect(n=1, activate=True)"
   ]
  },
  {
   "cell_type": "code",
   "execution_count": 2,
   "id": "fb5986a3",
   "metadata": {},
   "outputs": [
    {
     "data": {
      "text/plain": [
       "\u001b[0;31mOut[0:1]: \u001b[0m1"
      ]
     },
     "metadata": {
      "after": null,
      "completed": null,
      "data": {},
      "engine_id": 0,
      "engine_uuid": "997047c1-02e9a5c6c7bf33b8b8e34a16",
      "error": null,
      "execute_input": "from mpi4py.MPI import COMM_WORLD\nCOMM_WORLD.Get_size()\n",
      "execute_result": {
       "data": {
        "text/plain": "1"
       },
       "execution_count": 1,
       "metadata": {}
      },
      "follow": null,
      "msg_id": null,
      "outputs": [],
      "received": null,
      "started": null,
      "status": null,
      "stderr": "",
      "stdout": "",
      "submitted": "2023-07-08T06:39:47.570726Z"
     },
     "output_type": "display_data"
    }
   ],
   "source": [
    "%%px\n",
    "from mpi4py.MPI import COMM_WORLD\n",
    "COMM_WORLD.Get_size()"
   ]
  },
  {
   "cell_type": "markdown",
   "id": "77b29016",
   "metadata": {},
   "source": [
    "\n",
    "First we need to construct the distributed mesh that will be interested in dealing with in our map to a PETSc `DMPlex`."
   ]
  },
  {
   "cell_type": "code",
   "execution_count": 3,
   "id": "1fd6d26b",
   "metadata": {},
   "outputs": [],
   "source": [
    "%%px\n",
    "from ngsolve import Mesh\n",
    "from netgen.geom2d import unit_square\n",
    "\n",
    "if COMM_WORLD.rank == 0:\n",
    "    mesh = Mesh(unit_square.GenerateMesh(maxh=0.2).Distribute(COMM_WORLD))\n",
    "else:\n",
    "    mesh = Mesh(ngm.Mesh.Receive(COMM_WORLD))"
   ]
  },
  {
   "cell_type": "markdown",
   "id": "f6aec789",
   "metadata": {},
   "source": [
    "We can now convert this matrix in a PETSc `DMPlex`, to do this we will initialize a `MeshMapping` class and then access the mapped PETSc `DMPlex` as the attribute `petscPlex`."
   ]
  },
  {
   "cell_type": "code",
   "execution_count": 4,
   "id": "76c2e681",
   "metadata": {},
   "outputs": [
    {
     "data": {
      "text/plain": [
       "[stdout:0] DM Object: Default 1 MPI process\n",
       "  type: plex\n",
       "Default in 2 dimensions:\n",
       "  Number of 0-cells per rank: 37\n",
       "  Number of 1-cells per rank: 88\n",
       "  Number of 2-cells per rank: 52\n",
       "Labels:\n",
       "  celltype: 3 strata with value/size (0 (37), 3 (52), 1 (88))\n",
       "  depth: 3 strata with value/size (0 (37), 1 (88), 2 (52))\n",
       "  Face Sets: 4 strata with value/size (1 (5), 2 (5), 3 (5), 4 (5))\n"
      ]
     },
     "metadata": {},
     "output_type": "display_data"
    }
   ],
   "source": [
    "%%px\n",
    "from ngsPETSc import MeshMapping\n",
    "Map = MeshMapping(mesh)\n",
    "Map.petscPlex.view()"
   ]
  },
  {
   "cell_type": "markdown",
   "id": "82eb57ee",
   "metadata": {},
   "source": [
    "We can use any PETSc `DMPlex` function that is wrapped in petsc4py on the `Map.petscPlex` object. For example, we can apply any PETSc `DMPlexTransform`. We will now apply different PETSc `DMPlexTransform` and check using the `view` method that we have the mesh was transformed correctly. We begin with the PETSc `DMPlexTransformType.REFINEREGULAR` which will create split a triangle in four subs triangles connecting the middle points of each vertex of the triangle to create a new triangle in the center."
   ]
  },
  {
   "cell_type": "code",
   "execution_count": 5,
   "id": "6d69d42a",
   "metadata": {},
   "outputs": [
    {
     "data": {
      "text/plain": [
       "[stdout:0] DM Object: 1 MPI process\n",
       "  type: plex\n",
       "DM_0x55916d78e370_1 in 2 dimensions:\n",
       "  Number of 0-cells per rank: 125\n",
       "  Number of 1-cells per rank: 332\n",
       "  Number of 2-cells per rank: 208\n",
       "Labels:\n",
       "  celltype: 3 strata with value/size (1 (332), 3 (208), 0 (125))\n",
       "  depth: 3 strata with value/size (0 (125), 1 (332), 2 (208))\n",
       "  Face Sets: 4 strata with value/size (1 (15), 2 (15), 3 (15), 4 (15))\n"
      ]
     },
     "metadata": {},
     "output_type": "display_data"
    }
   ],
   "source": [
    "%%px\n",
    "from petsc4py import PETSc\n",
    "tr = PETSc.DMPlexTransform().create(comm=PETSc.COMM_WORLD)\n",
    "tr.setType(PETSc.DMPlexTransformType.REFINEREGULAR)\n",
    "tr.setDM(Map.petscPlex)\n",
    "tr.setUp()\n",
    "newplex = tr.apply(Map.petscPlex)\n",
    "newplex.view()"
   ]
  },
  {
   "cell_type": "markdown",
   "id": "e5d77e20",
   "metadata": {},
   "source": [
    "We can easily verify that the number of `2-cells` elements, i.e. triangles in the mesh has quadrupled. We can also create a new `MeshMapping` class to convert the new PETSc `DMPlex` into a Netgen `Mesh` and visualize it."
   ]
  },
  {
   "cell_type": "code",
   "execution_count": null,
   "id": "d56f051a",
   "metadata": {},
   "outputs": [],
   "source": [
    "%%px\n",
    "from ngsolve import Mesh\n",
    "Map = MeshMapping(newplex)\n",
    "from ngsolve.webgui import Draw\n",
    "Draw(Mesh(Map.ngMesh))"
   ]
  },
  {
   "cell_type": "markdown",
   "id": "edc42af1",
   "metadata": {},
   "source": [
    "We can experiment also with other PETSc `DMPlexTransformation` for example the `REFINETOBOX` transformation which will split each triangle in the mesh into three quadrilateral by joining the midpoints of each edge. This will allow to obtain a purely quadrilateral mesh from a Netgen mesh."
   ]
  },
  {
   "cell_type": "code",
   "execution_count": null,
   "id": "41808770",
   "metadata": {},
   "outputs": [],
   "source": [
    "%%px\n",
    "tr = PETSc.DMPlexTransform().create(comm=PETSc.COMM_WORLD)\n",
    "tr.setType(PETSc.DMPlexTransformType.REFINETOBOX)\n",
    "tr.setDM(Map.petscPlex)\n",
    "tr.setUp()\n",
    "newplex = tr.apply(Map.petscPlex)\n",
    "Map = MeshMapping(newplex)\n",
    "Draw(Mesh(Map.ngMesh))"
   ]
  },
  {
   "cell_type": "markdown",
   "id": "a351d8bc",
   "metadata": {},
   "source": [
    "### Example (Alfeld Splittings and Scott-Vogelious)\n",
    "In this example we would like to show that the finite element pair $P^2-P^1_{disc}$ known as the low-order Scott-Vogelious pair, which is known to verify the Brezzi-Babuska condition for the Stokes problem on Alfeld split mesh, can be easily implemented in NGSolve using a `PETSc DMPlexTransformation`. First we construct a mesh and use the `MeshMapping` class to obtain an PETSc `DMPlex` that we proceed to split to obtain an Alfeld refinement."
   ]
  },
  {
   "cell_type": "code",
   "execution_count": null,
   "id": "0169fe9b",
   "metadata": {},
   "outputs": [],
   "source": [
    "%%px\n",
    "from netgen.geom2d import SplineGeometry\n",
    "if COMM_WORLD.rank == 0:\n",
    "    geo = SplineGeometry()\n",
    "    geo.AddRectangle( (0, 0), (2, 0.41), bcs = (\"wall\", \"outlet\", \"wall\", \"inlet\"))\n",
    "    geo.AddCircle ( (0.2, 0.2), r=0.05, leftdomain=0, rightdomain=1, bc=\"cyl\")\n",
    "    mesh = Mesh( geo.GenerateMesh(maxh=0.05))\n",
    "    mesh.Curve(3)\n",
    "else:\n",
    "    mesh = Mesh(ngm.Mesh.Receive(COMM_WORLD))\n",
    "Map = MeshMapping(mesh)\n",
    "tr = PETSc.DMPlexTransform().create(comm=PETSc.COMM_WORLD)\n",
    "tr.setType(PETSc.DMPlexTransformType.REFINEALFELD)\n",
    "tr.setDM(Map.petscPlex)\n",
    "tr.setUp()\n",
    "newplex = tr.apply(Map.petscPlex)\n",
    "mesh = Mesh(MeshMapping(newplex).ngMesh)\n",
    "Draw(mesh)"
   ]
  },
  {
   "cell_type": "markdown",
   "id": "bf32bdf1",
   "metadata": {},
   "source": [
    "We now proceed constructing the finite element space we are interested in and distressing the Stokes equation in variational form, i.e. find $(\\vec{u}_h,p_h)\\in [P^2(\\mathcal{T}_h)]^2\\times P^1_{disc}(\\mathcal{T}_h)$ such that for any $(\\vec{v}_h,q_h)\\in [P^2(\\mathcal{T}_h)]^2\\times P^1_{disc}(\\mathcal{T}_h)$ the follwing equations hold,\n",
    "$$\n",
    "(\\nabla \\vec{u}_h,\\nabla \\vec{v}_h)-(\\nabla \\cdot \\vec{v}_h,p_h) = (\\vec{f},\\vec{v}_h)\\\\\n",
    "(\\nabla \\cdot \\vec{u}_h,p_h) = (\\vec{f},\\vec{v}_h)\\\\\n",
    "$$"
   ]
  },
  {
   "cell_type": "code",
   "execution_count": null,
   "id": "63942b8e",
   "metadata": {},
   "outputs": [],
   "source": [
    "%%px\n",
    "from ngsolve import VectorH1, L2, H1, BilinearForm, InnerProduct, GridFunction\n",
    "from ngsolve import grad, div, x,y, dx, CoefficientFunction, Norm, SetVisualization, TRIG\n",
    "V = VectorH1(mesh, order=2,dirichlet=[4,1,3,5,6,7,8])\n",
    "Q = L2(mesh, order=1)\n",
    "X = V*Q\n",
    "\n",
    "u,p = X.TrialFunction()\n",
    "v,q = X.TestFunction()\n",
    "\n",
    "a = BilinearForm(X)\n",
    "a += (InnerProduct(grad(u),grad(v))+div(u)*q+div(v)*p)*dx\n",
    "a.Assemble()\n",
    "\n",
    "gfu = GridFunction(X)\n",
    "uin = CoefficientFunction( (1.5*4*y*(0.41-y)/(0.41*0.41), 0) )\n",
    "gfu.components[0].Set(uin, definedon=mesh.Boundaries([3]))\n",
    "\n",
    "res = gfu.vec.CreateVector()\n",
    "res.data = -a.mat * gfu.vec\n",
    "inv = a.mat.Inverse(freedofs=X.FreeDofs(), inverse=\"umfpack\")\n",
    "gfu.vec.data += inv * res\n",
    "Draw(Norm(gfu.components[0]), mesh, \"|vel|\")\n",
    "SetVisualization(max=2)"
   ]
  }
 ],
 "metadata": {
  "kernelspec": {
   "display_name": "ngs",
   "language": "python",
   "name": "ngs"
  },
  "language_info": {
   "codemirror_mode": {
    "name": "ipython",
    "version": 3
   },
   "file_extension": ".py",
   "mimetype": "text/x-python",
   "name": "python",
   "nbconvert_exporter": "python",
   "pygments_lexer": "ipython3",
   "version": "3.10.6"
  }
 },
 "nbformat": 4,
 "nbformat_minor": 5
}
